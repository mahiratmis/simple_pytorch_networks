{
 "cells": [
  {
   "cell_type": "markdown",
   "metadata": {},
   "source": [
    "# Tensors\n",
    "A tensor is an n-dimensional array.\n",
    "## Scalar  (0-dimensional tensor)\n",
    "0 dimesional tensor"
   ]
  },
  {
   "cell_type": "code",
   "execution_count": 27,
   "metadata": {},
   "outputs": [
    {
     "name": "stdout",
     "output_type": "stream",
     "text": [
      "x     : tensor(2)\n",
      "item  : 2\n",
      "dtype : torch.int64\n",
      "dim   : 0\n",
      "numel : 1\n"
     ]
    }
   ],
   "source": [
    "import torch\n",
    "\n",
    "x = torch.tensor(2)                      #  scalar with dtype int64 \n",
    "y = torch.tensor(2.)                     #  scalar with dtype float32\n",
    "z = torch.tensor(2, dtype=torch.double)  #  scalar with dtype float64\n",
    "print(\"x     :\", x)\n",
    "print(\"item  :\", x.item())                          #  item() returns the scalar value within the tensor\n",
    "print(\"dtype :\", x.dtype)                           # data type of the tensor values\n",
    "print(\"dim   :\", x.dim())                           # dimension of the tensor\n",
    "print(\"numel :\", x.numel())                         # number of elements in the tensor\n",
    " "
   ]
  },
  {
   "cell_type": "markdown",
   "metadata": {},
   "source": [
    "## 1-dimensional tensor"
   ]
  },
  {
   "cell_type": "code",
   "execution_count": 28,
   "metadata": {},
   "outputs": [
    {
     "name": "stdout",
     "output_type": "stream",
     "text": [
      "x   : tensor([1, 2, 3, 4, 5, 6])\n",
      "y   : tensor([1, 2, 3, 4, 5, 6])\n",
      "ones: tensor([1., 1., 1., 1., 1., 1., 1.])\n",
      "shape x:  torch.Size([6])\n",
      "size  x:  torch.Size([6])\n"
     ]
    }
   ],
   "source": [
    "x = torch.tensor([1,2,3,4,5,6])   # Tensor from a list\n",
    "y = torch.arange(1,7)             # Tensor using arange function\n",
    "ones = torch.ones(7)\n",
    "print(\"x   :\", x)\n",
    "print(\"y   :\", y)\n",
    "print(\"ones:\", ones)\n",
    "print(\"shape x: \", x.shape)\n",
    "print(\"size  x: \", x.size())"
   ]
  },
  {
   "cell_type": "markdown",
   "metadata": {},
   "source": [
    "## 2-dimensional tensor, view(), eye(), diag(), zeros()"
   ]
  },
  {
   "cell_type": "code",
   "execution_count": 29,
   "metadata": {},
   "outputs": [
    {
     "name": "stdout",
     "output_type": "stream",
     "text": [
      "x: tensor([[-3,  2],\n",
      "        [ 3,  4],\n",
      "        [ 5,  6]])\n",
      "y: tensor([[-3,  2,  3],\n",
      "        [ 4,  5,  6]])\n",
      "z: tensor([[-3,  2,  3],\n",
      "        [ 4,  5,  6]])\n",
      "p tensor([-3,  2,  3,  4,  5,  6])\n",
      "t: tensor([[-3,  2,  3],\n",
      "        [ 4,  5,  6]])\n",
      "tensor([[1., 0., 0., 0.],\n",
      "        [0., 1., 0., 0.],\n",
      "        [0., 0., 1., 0.],\n",
      "        [0., 0., 0., 1.]])\n",
      "tensor([1., 1., 1., 1.])\n",
      "tensor([[0, 0, 0],\n",
      "        [0, 0, 0]])\n"
     ]
    }
   ],
   "source": [
    "x = torch.tensor([[1,2],\n",
    "                  [3,4],\n",
    "                  [5,6]])                       # 2D tensor from list of size 3,2\n",
    "y = x.view(2,3)                                 # use view() to reshape the tensor\n",
    "z = x.view(-1,3)                                # -1 states that infer the dimension from the remaining dimensions\n",
    "p = x.view(-1)                                  # flatten the 2D tensor to 1D\n",
    "t = x.reshape(2,3)                              # same as view but may copy underlying data\n",
    "t[0,0] = -3\n",
    "I = torch.eye(4)                                # unit matrix\n",
    "diags = torch.diag(I)                           # diagonals of a matrix\n",
    "zeros = torch.zeros(2,3, dtype=torch.int64)     # zero matrix default dtype is float32\n",
    "print(\"x:\", x)\n",
    "print(\"y:\", y) \n",
    "print(\"z:\", z)\n",
    "print(\"p\", p)\n",
    "print(\"t:\", t)\n",
    "print(I)\n",
    "print(diags)\n",
    "print(zeros)"
   ]
  },
  {
   "cell_type": "markdown",
   "metadata": {},
   "source": [
    "## n-dimensional tensor"
   ]
  },
  {
   "cell_type": "code",
   "execution_count": 30,
   "metadata": {},
   "outputs": [
    {
     "name": "stdout",
     "output_type": "stream",
     "text": [
      "x    : tensor([[[ 1,  2,  3],\n",
      "         [ 4,  5,  6]],\n",
      "\n",
      "        [[ 7,  8,  9],\n",
      "         [10, 11, 12]]])\n",
      "size x: torch.Size([2, 2, 3])\n",
      "tensor([[[[ 0.3134, -0.8573],\n",
      "          [-0.5619, -0.6856]]]])\n"
     ]
    }
   ],
   "source": [
    "x=torch.tensor([[[1,2,3],\n",
    "                 [4,5,6]],\n",
    "                [[7,8,9],\n",
    "                 [10,11,12]]])                  # 3D tensor using list of shape 2,2,3\n",
    "y = torch.rand(16,1,28,28)                     # uniform dist between 0,1 (16 1-channel(gray scale) 28x28 image)\n",
    "z = torch.randn(1,1,2,2)                       # from normal distribution mu=0 std=1\n",
    "ones = torch.ones(2,2,4)\n",
    "print(\"x    :\",x)\n",
    "print(\"size x:\", x.size())\n",
    "print(z)"
   ]
  },
  {
   "cell_type": "markdown",
   "metadata": {},
   "source": [
    "## Aritmetic Operations"
   ]
  },
  {
   "cell_type": "code",
   "execution_count": 31,
   "metadata": {},
   "outputs": [
    {
     "name": "stdout",
     "output_type": "stream",
     "text": [
      "tensor([ 9, 12])\n",
      "tensor([ 9, 12])\n",
      "tensor([3, 4])\n",
      "tensor([3, 4])\n",
      "tensor([2., 2.])\n",
      "tensor([2., 2.])\n",
      "tensor([18, 32])\n",
      "tensor(50)\n",
      "tensor([ 9, 12])\n",
      "tensor([ 9, 12])\n"
     ]
    }
   ],
   "source": [
    "x = torch.tensor([6,8])\n",
    "y = torch.tensor([3,4])\n",
    "print(x+y)                     # sum\n",
    "print(x.add(y))                # sum 2\n",
    "print(x-y)                     # substract\n",
    "print(x.sub(y))                # substract 2\n",
    "print(x/y)                     # divide\n",
    "print(x.div(y))                # divide 2\n",
    "print(x*y)                     # element wise product (Hadamard product)\n",
    "print(x@y)                     # dot product if both are 1-d tensor matrix product otherwise\n",
    "# matmul, mm\n",
    "\n",
    "print(x.add_(y))               # inline addition\n",
    "print(x)                       # value of x has changed\n"
   ]
  },
  {
   "cell_type": "markdown",
   "metadata": {},
   "source": [
    "## Important Aggregation Functions"
   ]
  },
  {
   "cell_type": "code",
   "execution_count": 32,
   "metadata": {},
   "outputs": [
    {
     "name": "stdout",
     "output_type": "stream",
     "text": [
      "tensor([[0., 1.],\n",
      "        [2., 3.],\n",
      "        [4., 5.],\n",
      "        [6., 7.]])\n",
      "tensor(28.)\n",
      "tensor(7.)\n",
      "tensor(0.)\n",
      "tensor(2.4495)\n",
      "tensor(3.5000)\n",
      "tensor(3.)\n"
     ]
    }
   ],
   "source": [
    "x = torch.arange(8.).view(4,2)\n",
    "print(x)\n",
    "print(x.sum())\n",
    "print(x.max())\n",
    "print(x.min())\n",
    "print(x.std())\n",
    "print(x.mean())\n",
    "print(x.median())\n"
   ]
  },
  {
   "cell_type": "markdown",
   "metadata": {},
   "source": [
    "## Dimension"
   ]
  },
  {
   "cell_type": "code",
   "execution_count": 33,
   "metadata": {},
   "outputs": [
    {
     "name": "stdout",
     "output_type": "stream",
     "text": [
      "tensor([[0., 1.],\n",
      "        [2., 3.],\n",
      "        [4., 5.]])\n",
      "tensor([6., 9.])\n",
      "tensor([1., 5., 9.])\n"
     ]
    }
   ],
   "source": [
    "x = torch.arange(6.).view(3,2)\n",
    "print(x)\n",
    "# collapse the specified dimension\n",
    "print(x.sum(dim=0)) # sum rows. think as x[0] + x[1] + x[2]\n",
    "print(x.sum(dim=1)) # sum elements of each row. think as x[0].sum() , x[1].sum() , x[2].sum()"
   ]
  },
  {
   "cell_type": "markdown",
   "metadata": {},
   "source": [
    "## Adding or removing dimensions"
   ]
  },
  {
   "cell_type": "code",
   "execution_count": 34,
   "metadata": {},
   "outputs": [
    {
     "name": "stdout",
     "output_type": "stream",
     "text": [
      "torch.Size([10, 28, 28])\n",
      "torch.Size([10, 1, 28, 28])\n",
      "torch.Size([10, 28, 28])\n"
     ]
    }
   ],
   "source": [
    "x = torch.randn(10,28,28)\n",
    "print(x.shape)\n",
    "x = x.unsqueeze(dim=1)         # add a new dimension after the first dimension B C H W\n",
    "print(x.shape)\n",
    "x = x.squeeze()                # remove dimensions of size 1\n",
    "print(x.shape)"
   ]
  },
  {
   "cell_type": "markdown",
   "metadata": {},
   "source": [
    "## Autograd\n",
    "\n",
    "<img src=\"images/gradients.jpg\">"
   ]
  },
  {
   "cell_type": "code",
   "execution_count": 35,
   "metadata": {},
   "outputs": [
    {
     "name": "stdout",
     "output_type": "stream",
     "text": [
      "tensor([-1.5000])\n",
      "tensor([-3.])\n",
      "None\n"
     ]
    }
   ],
   "source": [
    "w1 = torch.tensor([0.2], requires_grad=True)\n",
    "x1  = torch.tensor([2.0], requires_grad=False)\n",
    "w0 = torch.tensor([0.1], requires_grad=True)\n",
    "y = x1*w1 + w0\n",
    "r = torch.tensor([2])\n",
    "err = 0.5*(r-y).pow(2)\n",
    "err.backward()\n",
    "\n",
    "print(w0.grad)\n",
    "print(w1.grad)\n",
    "print(x1.grad)\n"
   ]
  }
 ],
 "metadata": {
  "kernelspec": {
   "display_name": "Python 3.7.7 64-bit ('p37': conda)",
   "metadata": {
    "interpreter": {
     "hash": "ab66cd2a7eef53324163067b08cf46878006a1ba8ec8ccae931ca78a06f8215e"
    }
   },
   "name": "python3"
  },
  "language_info": {
   "codemirror_mode": {
    "name": "ipython",
    "version": 3
   },
   "file_extension": ".py",
   "mimetype": "text/x-python",
   "name": "python",
   "nbconvert_exporter": "python",
   "pygments_lexer": "ipython3",
   "version": "3.7.2"
  },
  "orig_nbformat": 2
 },
 "nbformat": 4,
 "nbformat_minor": 2
}
