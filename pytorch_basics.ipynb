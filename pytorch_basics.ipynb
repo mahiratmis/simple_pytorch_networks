{
 "metadata": {
  "language_info": {
   "codemirror_mode": {
    "name": "ipython",
    "version": 3
   },
   "file_extension": ".py",
   "mimetype": "text/x-python",
   "name": "python",
   "nbconvert_exporter": "python",
   "pygments_lexer": "ipython3",
   "version": "3.7.7-final"
  },
  "orig_nbformat": 2,
  "kernelspec": {
   "name": "python3",
   "display_name": "Python 3.7.7 64-bit ('p37': conda)",
   "metadata": {
    "interpreter": {
     "hash": "ab66cd2a7eef53324163067b08cf46878006a1ba8ec8ccae931ca78a06f8215e"
    }
   }
  }
 },
 "nbformat": 4,
 "nbformat_minor": 2,
 "cells": [
  {
   "source": [
    "# Tensors\n",
    "A tensor is an n-dimensional array.\n",
    "## Scalar  (0-dimensional tensor)\n",
    "0 dimesional tensor"
   ],
   "cell_type": "markdown",
   "metadata": {}
  },
  {
   "cell_type": "code",
   "execution_count": 1,
   "metadata": {},
   "outputs": [
    {
     "output_type": "stream",
     "name": "stdout",
     "text": [
      "x     : tensor(2)\nitem  : 2\ndtype : torch.int64\ndim   : 0\nnumel : 1\n"
     ]
    }
   ],
   "source": [
    "import torch\n",
    "\n",
    "x = torch.tensor(2)                      #  scalar with dtype int64 \n",
    "y = torch.tensor(2.)                     #  scalar with dtype float32\n",
    "z = torch.tensor(2, dtype=torch.double)  #  scalar with dtype float64\n",
    "print(\"x     :\", x)\n",
    "print(\"item  :\", x.item())                          #  item() returns the scalar value within the tensor\n",
    "print(\"dtype :\", x.dtype)                           # data type of the tensor values\n",
    "print(\"dim   :\", x.dim())                           # dimension of the tensor\n",
    "print(\"numel :\", x.numel())                         # number of elements in the tensor\n",
    " "
   ]
  },
  {
   "source": [
    "## 1-dimensional tensor"
   ],
   "cell_type": "markdown",
   "metadata": {}
  },
  {
   "cell_type": "code",
   "execution_count": 2,
   "metadata": {},
   "outputs": [
    {
     "output_type": "stream",
     "name": "stdout",
     "text": [
      "x   : tensor([1, 2, 3, 4, 5, 6])\ny   : tensor([1, 2, 3, 4, 5, 6])\nones: tensor([1., 1., 1., 1., 1., 1., 1.])\nshape x:  torch.Size([6])\nsize  x:  torch.Size([6])\n"
     ]
    }
   ],
   "source": [
    "x = torch.tensor([1,2,3,4,5,6])   # Tensor from a list\n",
    "y = torch.arange(1,7)             # Tensor using arange function\n",
    "ones = torch.ones(7)\n",
    "print(\"x   :\", x)\n",
    "print(\"y   :\", y)\n",
    "print(\"ones:\", ones)\n",
    "print(\"shape x: \", x.shape)\n",
    "print(\"size  x: \", x.size())"
   ]
  },
  {
   "source": [
    "## 2-dimensional tensor, view(), eye(), diag(), zeros()"
   ],
   "cell_type": "markdown",
   "metadata": {}
  },
  {
   "cell_type": "code",
   "execution_count": 3,
   "metadata": {},
   "outputs": [
    {
     "output_type": "stream",
     "name": "stdout",
     "text": [
      "x: tensor([[-3,  2],\n        [ 3,  4],\n        [ 5,  6]])\ny: tensor([[-3,  2,  3],\n        [ 4,  5,  6]])\nz: tensor([[-3,  2,  3],\n        [ 4,  5,  6]])\nt: tensor([[-3,  2,  3],\n        [ 4,  5,  6]])\ntensor([[1., 0., 0., 0.],\n        [0., 1., 0., 0.],\n        [0., 0., 1., 0.],\n        [0., 0., 0., 1.]])\ntensor([1., 1., 1., 1.])\ntensor([1., 1., 1., 1., 1., 1., 1.])\ntensor([[0, 0, 0],\n        [0, 0, 0]])\n"
     ]
    }
   ],
   "source": [
    "x = torch.tensor([[1,2],\n",
    "                  [3,4],\n",
    "                  [5,6]])                       # 2D tensor from list of size 3,2\n",
    "y = x.view(2,3)                                 # use view() to reshape the tensor\n",
    "z = x.view(-1,3)                                # -1 states that infer the dimension from the remaining dimensions\n",
    "t = x.reshape(2,3)                              # same as view but may copy underlying data\n",
    "t[0,0] = -3\n",
    "I = torch.eye(4)                                # unit matrix\n",
    "diags = torch.diag(I)                           # diagonals of a matrix\n",
    "zeros = torch.zeros(2,3, dtype=torch.int64)     # zero matrix default dtype is float32\n",
    "print(\"x:\", x)\n",
    "print(\"y:\", y) \n",
    "print(\"z:\", z)\n",
    "print(\"t:\", t)\n",
    "print(I)\n",
    "print(diags)\n",
    "print(ones)\n",
    "print(zeros)"
   ]
  },
  {
   "source": [
    "## n-dimensional tensor"
   ],
   "cell_type": "markdown",
   "metadata": {}
  },
  {
   "cell_type": "code",
   "execution_count": 4,
   "metadata": {},
   "outputs": [
    {
     "output_type": "stream",
     "name": "stdout",
     "text": [
      "x    : tensor([[[ 1,  2,  3],\n         [ 3,  4,  5]],\n\n        [[ 6,  7,  9],\n         [ 9, 10, 11]]])\nsize x: torch.Size([2, 2, 3])\ntensor([[[[9.7325e-01, 7.5799e-01, 6.7442e-01,  ..., 2.0121e-01,\n           6.0320e-01, 8.2125e-01],\n          [9.2503e-01, 7.6497e-01, 3.9771e-01,  ..., 8.9065e-01,\n           1.9855e-01, 8.6577e-01],\n          [3.8976e-01, 7.0542e-01, 5.6404e-01,  ..., 1.5996e-01,\n           8.2361e-01, 9.3912e-02],\n          ...,\n          [9.9044e-01, 2.7743e-01, 5.8876e-01,  ..., 4.6312e-01,\n           7.1358e-01, 3.9422e-01],\n          [8.8763e-01, 1.0678e-01, 1.3189e-01,  ..., 6.3913e-01,\n           5.7226e-01, 8.4973e-01],\n          [2.9281e-01, 5.6102e-01, 2.5835e-01,  ..., 9.3170e-01,\n           3.5077e-01, 9.4436e-01]]],\n\n\n        [[[3.2113e-01, 2.6145e-01, 1.0876e-01,  ..., 8.6748e-01,\n           4.8499e-01, 5.7688e-01],\n          [4.4541e-01, 3.0839e-01, 2.5301e-01,  ..., 4.1791e-01,\n           9.3516e-01, 6.2831e-01],\n          [4.2650e-01, 8.5428e-01, 6.4422e-02,  ..., 2.6995e-01,\n           6.8998e-01, 4.5414e-01],\n          ...,\n          [7.5532e-02, 2.5256e-01, 6.0767e-01,  ..., 9.0486e-02,\n           8.6792e-01, 1.9483e-01],\n          [6.9523e-01, 1.5373e-01, 7.8991e-01,  ..., 3.1353e-01,\n           4.7310e-02, 4.3674e-01],\n          [8.8771e-01, 2.8101e-01, 6.2952e-01,  ..., 4.5936e-02,\n           6.5811e-01, 5.7789e-01]]],\n\n\n        [[[6.0799e-01, 5.8573e-01, 9.5113e-01,  ..., 9.7980e-01,\n           1.9139e-01, 5.6630e-01],\n          [5.4538e-04, 8.0441e-01, 2.7661e-01,  ..., 1.2142e-01,\n           7.2801e-01, 7.4905e-01],\n          [5.0753e-01, 5.4267e-01, 8.8208e-01,  ..., 1.6004e-01,\n           4.7153e-01, 3.2826e-01],\n          ...,\n          [9.2072e-01, 4.4757e-01, 9.0513e-01,  ..., 1.1972e-01,\n           1.7106e-01, 4.5455e-01],\n          [8.3726e-01, 3.8213e-01, 8.2346e-01,  ..., 6.0963e-01,\n           7.0711e-01, 8.0237e-01],\n          [2.8310e-01, 8.6239e-01, 5.2011e-01,  ..., 3.5658e-01,\n           5.7803e-01, 7.0861e-01]]],\n\n\n        ...,\n\n\n        [[[3.0240e-02, 1.8350e-02, 8.0769e-01,  ..., 9.0800e-01,\n           1.5038e-01, 1.4556e-02],\n          [5.1326e-01, 1.5113e-01, 5.6000e-01,  ..., 7.9507e-01,\n           6.1071e-01, 6.3158e-01],\n          [3.5180e-01, 1.9868e-01, 5.2423e-01,  ..., 5.5382e-01,\n           3.3720e-01, 4.6906e-01],\n          ...,\n          [1.4968e-01, 6.8365e-01, 3.1798e-01,  ..., 2.5526e-01,\n           5.6695e-01, 7.2639e-01],\n          [2.0670e-03, 9.6741e-01, 3.6957e-01,  ..., 8.9079e-01,\n           7.5080e-01, 9.8897e-01],\n          [9.9632e-01, 1.9618e-01, 8.3082e-01,  ..., 4.0362e-01,\n           9.2661e-01, 9.4889e-01]]],\n\n\n        [[[2.3361e-01, 5.8718e-01, 4.9323e-01,  ..., 3.4972e-01,\n           8.1509e-01, 7.9540e-01],\n          [2.3040e-01, 6.5600e-01, 6.8202e-01,  ..., 8.7063e-01,\n           5.9353e-01, 3.2270e-01],\n          [5.0059e-01, 5.8121e-01, 1.9597e-01,  ..., 4.6467e-01,\n           7.7560e-01, 7.4049e-01],\n          ...,\n          [6.1418e-01, 8.5919e-01, 1.3213e-01,  ..., 4.5595e-01,\n           6.6549e-01, 7.1061e-01],\n          [6.1534e-01, 1.8374e-01, 9.5354e-01,  ..., 1.0412e-01,\n           7.2258e-01, 8.2941e-01],\n          [5.4185e-01, 5.1271e-01, 7.8026e-02,  ..., 1.2475e-01,\n           2.5710e-02, 4.1524e-01]]],\n\n\n        [[[2.8896e-01, 7.7371e-01, 3.8292e-01,  ..., 5.3803e-01,\n           7.8944e-01, 6.0264e-01],\n          [3.8194e-01, 3.7767e-01, 9.4919e-01,  ..., 7.3636e-01,\n           1.1563e-01, 9.0302e-02],\n          [5.8459e-01, 7.1393e-01, 8.2782e-02,  ..., 8.0231e-01,\n           4.7622e-01, 8.8306e-01],\n          ...,\n          [4.7471e-01, 4.6027e-01, 4.0402e-01,  ..., 3.6794e-01,\n           9.8839e-01, 7.5473e-02],\n          [1.8158e-01, 9.6606e-02, 9.2217e-01,  ..., 2.3611e-01,\n           8.5203e-01, 6.3430e-01],\n          [9.0390e-01, 9.0326e-01, 2.3553e-01,  ..., 4.5236e-03,\n           7.1963e-01, 6.3266e-01]]]])\ntensor([[-3,  2,  3],\n        [ 4,  5,  6]])\n"
     ]
    }
   ],
   "source": [
    "x=torch.tensor([[[1,2,3],\n",
    "                 [3,4,5]],\n",
    "                [[6,7,9],\n",
    "                 [9,10,11]]])                  # 3D tensor using list of shape 2,2,3\n",
    "y = torch.rand(16,1,28,28)                     # uniform dist between 0,1 (16 1-channel(gray scale) 28x28 image)\n",
    "z = torch.randn(1,1,2,2)                       # from normal distribution mu=0 std=1\n",
    "ones = torch.ones(2,2,4)\n",
    "print(\"x    :\",x)\n",
    "print(\"size x:\", x.size())\n",
    "print(y)\n",
    "print(t)"
   ]
  },
  {
   "source": [
    "## Aritmetic Operations"
   ],
   "cell_type": "markdown",
   "metadata": {}
  },
  {
   "cell_type": "code",
   "execution_count": 5,
   "metadata": {},
   "outputs": [
    {
     "output_type": "stream",
     "name": "stdout",
     "text": [
      "tensor([ 9, 12])\ntensor([ 9, 12])\ntensor([3, 4])\ntensor([3, 4])\ntensor([2, 2])\ntensor([2, 2])\ntensor([18, 32])\ntensor(50)\ntensor([ 9, 12])\ntensor([ 9, 12])\ntensor([[ 0.1270,  1.2136,  2.4008,  0.3209],\n        [-0.4989,  2.7146,  3.9685,  1.9434]])\ntensor([[ 0.1270,  1.2136,  2.4008,  0.3209],\n        [-0.4989,  2.7146,  3.9685,  1.9434]])\ntensor([[ 0.1270,  1.2136,  2.4008,  0.3209],\n        [-0.4989,  2.7146,  3.9685,  1.9434]])\n"
     ]
    }
   ],
   "source": [
    "x = torch.tensor([6,8])\n",
    "y = torch.tensor([3,4])\n",
    "print(x+y)                     # sum\n",
    "print(x.add(y))                # sum 2\n",
    "print(x-y)                     # substract\n",
    "print(x.sub(y))                # substract 2\n",
    "print(x/y)                     # divide\n",
    "print(x.div(y))                # divide 2print(torch.matmul(m2,m3))     # broadcasting\n",
    "print(x*y)                     # element wise product\n",
    "print(x@y)                     # dot product if both are 1-d tensor\n",
    "\n",
    "print(x.add_(y))               # inline addition\n",
    "print(x)                       # value of x has changed\n",
    "\n",
    "m1 = torch.randn(2, 3)\n",
    "m2 = torch.randn(3, 4)\n",
    "m3 = torch.randn(1,3)\n",
    "mult = torch.mm(m1,m2)         # no broadcast\n",
    "print(mult)\n",
    "mult2 = m1 @ m2                # matrix multiplication\n",
    "print(mult2)\n",
    "mult3 = torch.matmul(m1,m2)    # with broadcast\n",
    "print(mult3)\n",
    "\n"
   ]
  },
  {
   "source": [
    "## Important Aggregation Functions"
   ],
   "cell_type": "markdown",
   "metadata": {}
  },
  {
   "cell_type": "code",
   "execution_count": 6,
   "metadata": {},
   "outputs": [
    {
     "output_type": "stream",
     "name": "stdout",
     "text": [
      "tensor([[0., 1.],\n        [2., 3.],\n        [4., 5.],\n        [6., 7.]])\ntensor(28.)\ntensor(7.)\ntensor(0.)\ntensor(2.4495)\ntensor(3.5000)\ntensor(3.)\n"
     ]
    }
   ],
   "source": [
    "x = torch.arange(8.).view(4,2)\n",
    "print(x)\n",
    "print(x.sum())\n",
    "print(x.max())\n",
    "print(x.min())\n",
    "print(x.std())\n",
    "print(x.mean())\n",
    "print(x.median())\n"
   ]
  },
  {
   "source": [
    "## Dimension"
   ],
   "cell_type": "markdown",
   "metadata": {}
  },
  {
   "cell_type": "code",
   "execution_count": 7,
   "metadata": {},
   "outputs": [
    {
     "output_type": "stream",
     "name": "stdout",
     "text": [
      "tensor([[0., 1.],\n        [2., 3.],\n        [4., 5.]])\ntensor([6., 9.])\ntensor([1., 5., 9.])\n"
     ]
    }
   ],
   "source": [
    "x = torch.arange(6.).view(3,2)\n",
    "print(x)\n",
    "# collapse the specified dimension\n",
    "print(x.sum(dim=0)) # sum rows. think as x[0] + x[1] + x[2]\n",
    "print(x.sum(dim=1)) # sum elements of each row. think as x[0].sum() , x[1].sum() , x[2].sum()"
   ]
  },
  {
   "source": [
    "## Adding or removing dimensions"
   ],
   "cell_type": "markdown",
   "metadata": {}
  },
  {
   "cell_type": "code",
   "execution_count": 8,
   "metadata": {},
   "outputs": [
    {
     "output_type": "stream",
     "name": "stdout",
     "text": [
      "torch.Size([10, 28, 28])\ntorch.Size([10, 1, 28, 28])\ntorch.Size([10, 28, 28])\n"
     ]
    }
   ],
   "source": [
    "x = torch.randn(10,28,28)\n",
    "print(x.shape)\n",
    "x = x.unsqueeze(dim=1)         # add a new dimension after the first dimension\n",
    "print(x.shape)\n",
    "x = x.squeeze()                # remove dimensions of size 1\n",
    "print(x.shape)"
   ]
  }
 ]
}