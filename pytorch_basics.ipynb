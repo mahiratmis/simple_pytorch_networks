{
 "metadata": {
  "language_info": {
   "codemirror_mode": {
    "name": "ipython",
    "version": 3
   },
   "file_extension": ".py",
   "mimetype": "text/x-python",
   "name": "python",
   "nbconvert_exporter": "python",
   "pygments_lexer": "ipython3",
   "version": "3.7.2-final"
  },
  "orig_nbformat": 2,
  "kernelspec": {
   "name": "python37264bitc1614707bae24ab18c8f392d435eabb1",
   "display_name": "Python 3.7.2 64-bit",
   "language": "python"
  }
 },
 "nbformat": 4,
 "nbformat_minor": 2,
 "cells": [
  {
   "source": [
    "# Tensors\n",
    "A tensor is an n-dimensional array.\n",
    "## Scalar  (0-dimensional tensor)\n",
    "0 dimesional tensor"
   ],
   "cell_type": "markdown",
   "metadata": {}
  },
  {
   "cell_type": "code",
   "execution_count": 1,
   "metadata": {},
   "outputs": [
    {
     "output_type": "stream",
     "name": "stdout",
     "text": [
      "x     : tensor(2)\nitem  : 2\ndtype : torch.int64\ndim   : 0\nnumel : 1\n"
     ]
    }
   ],
   "source": [
    "import torch\n",
    "\n",
    "x = torch.tensor(2)                      #  scalar with dtype int64 \n",
    "y = torch.tensor(2.)                     #  scalar with dtype float32\n",
    "z = torch.tensor(2, dtype=torch.double)  #  scalar with dtype float64\n",
    "print(\"x     :\", x)\n",
    "print(\"item  :\", x.item())                          #  item() returns the scalar value within the tensor\n",
    "print(\"dtype :\", x.dtype)                           # data type of the tensor values\n",
    "print(\"dim   :\", x.dim())                           # dimension of the tensor\n",
    "print(\"numel :\", x.numel())                         # number of elements in the tensor\n",
    " "
   ]
  },
  {
   "source": [
    "## 1-dimensional tensor"
   ],
   "cell_type": "markdown",
   "metadata": {}
  },
  {
   "cell_type": "code",
   "execution_count": 2,
   "metadata": {},
   "outputs": [
    {
     "output_type": "stream",
     "name": "stdout",
     "text": [
      "x   : tensor([1, 2, 3, 4, 5, 6])\ny   : tensor([1, 2, 3, 4, 5, 6])\nones: tensor([1., 1., 1., 1., 1., 1., 1.])\nshape x:  torch.Size([6])\nsize  x:  torch.Size([6])\n"
     ]
    }
   ],
   "source": [
    "x = torch.tensor([1,2,3,4,5,6])   # Tensor from a list\n",
    "y = torch.arange(1,7)             # Tensor using arange function\n",
    "ones = torch.ones(7)\n",
    "print(\"x   :\", x)\n",
    "print(\"y   :\", y)\n",
    "print(\"ones:\", ones)\n",
    "print(\"shape x: \", x.shape)\n",
    "print(\"size  x: \", x.size())"
   ]
  },
  {
   "source": [
    "## 2-dimensional tensor, view(), eye(), diag(), zeros()"
   ],
   "cell_type": "markdown",
   "metadata": {}
  },
  {
   "cell_type": "code",
   "execution_count": 3,
   "metadata": {},
   "outputs": [
    {
     "output_type": "stream",
     "name": "stdout",
     "text": [
      "x: tensor([[-3,  2],\n        [ 3,  4],\n        [ 5,  6]])\ny: tensor([[-3,  2,  3],\n        [ 4,  5,  6]])\nz: tensor([[-3,  2,  3],\n        [ 4,  5,  6]])\nt: tensor([[-3,  2,  3],\n        [ 4,  5,  6]])\ntensor([[1., 0., 0., 0.],\n        [0., 1., 0., 0.],\n        [0., 0., 1., 0.],\n        [0., 0., 0., 1.]])\ntensor([1., 1., 1., 1.])\ntensor([1., 1., 1., 1., 1., 1., 1.])\ntensor([[0, 0, 0],\n        [0, 0, 0]])\n"
     ]
    }
   ],
   "source": [
    "x = torch.tensor([[1,2],\n",
    "                  [3,4],\n",
    "                  [5,6]])                       # 2D tensor from list of size 3,2\n",
    "y = x.view(2,3)                                 # use view() to reshape the tensor\n",
    "z = x.view(-1,3)                                # -1 states that infer the dimension from the remaining dimensions\n",
    "t = x.reshape(2,3)                              # same as view but may copy underlying data\n",
    "t[0,0] = -3\n",
    "I = torch.eye(4)                                # unit matrix\n",
    "diags = torch.diag(I)                           # diagonals of a matrix\n",
    "zeros = torch.zeros(2,3, dtype=torch.int64)     # zero matrix default dtype is float32\n",
    "print(\"x:\", x)\n",
    "print(\"y:\", y) \n",
    "print(\"z:\", z)\n",
    "print(\"t:\", t)\n",
    "print(I)\n",
    "print(diags)\n",
    "print(ones)\n",
    "print(zeros)"
   ]
  },
  {
   "source": [
    "## n-dimensional tensor"
   ],
   "cell_type": "markdown",
   "metadata": {}
  },
  {
   "cell_type": "code",
   "execution_count": 4,
   "metadata": {},
   "outputs": [
    {
     "output_type": "stream",
     "name": "stdout",
     "text": [
      "x    : tensor([[[ 1,  2,  3],\n         [ 3,  4,  5]],\n\n        [[ 6,  7,  9],\n         [ 9, 10, 11]]])\nsie x: torch.Size([2, 2, 3])\ntensor([[[[0.0097, 0.3974, 0.8461,  ..., 0.4768, 0.9119, 0.4705],\n          [0.2760, 0.6648, 0.3551,  ..., 0.0503, 0.9283, 0.6480],\n          [0.2382, 0.7161, 0.8290,  ..., 0.5961, 0.0448, 0.3058],\n          ...,\n          [0.8273, 0.0019, 0.2371,  ..., 0.5376, 0.2642, 0.6386],\n          [0.7017, 0.7058, 0.1481,  ..., 0.7729, 0.8676, 0.0901],\n          [0.2392, 0.7538, 0.5817,  ..., 0.2584, 0.7308, 0.7420]]],\n\n\n        [[[0.9521, 0.5399, 0.5906,  ..., 0.2964, 0.5310, 0.2482],\n          [0.0561, 0.0819, 0.9975,  ..., 0.0726, 0.4778, 0.2070],\n          [0.2557, 0.2994, 0.0068,  ..., 0.0936, 0.7963, 0.4093],\n          ...,\n          [0.3516, 0.2803, 0.8027,  ..., 0.5946, 0.2107, 0.5075],\n          [0.5876, 0.4730, 0.2368,  ..., 0.7977, 0.2009, 0.4347],\n          [0.6668, 0.6688, 0.2132,  ..., 0.9232, 0.3933, 0.4522]]],\n\n\n        [[[0.0671, 0.8058, 0.4026,  ..., 0.9792, 0.7429, 0.6775],\n          [0.1660, 0.1273, 0.7644,  ..., 0.4403, 0.4804, 0.6744],\n          [0.9737, 0.3624, 0.8126,  ..., 0.1242, 0.0607, 0.6843],\n          ...,\n          [0.7091, 0.5095, 0.9600,  ..., 0.6922, 0.2815, 0.0562],\n          [0.6241, 0.7110, 0.6885,  ..., 0.7458, 0.7043, 0.7393],\n          [0.5750, 0.4769, 0.0718,  ..., 0.8410, 0.5315, 0.9233]]],\n\n\n        ...,\n\n\n        [[[0.5998, 0.4275, 0.8625,  ..., 0.1216, 0.8472, 0.2255],\n          [0.2327, 0.0422, 0.1471,  ..., 0.7196, 0.6182, 0.3621],\n          [0.1283, 0.4115, 0.5540,  ..., 0.3793, 0.3199, 0.2884],\n          ...,\n          [0.3661, 0.9360, 0.8196,  ..., 0.6135, 0.0650, 0.4841],\n          [0.5789, 0.8335, 0.2584,  ..., 0.2985, 0.8948, 0.4531],\n          [0.9422, 0.0012, 0.6330,  ..., 0.4247, 0.5081, 0.4898]]],\n\n\n        [[[0.0896, 0.0414, 0.7625,  ..., 0.0068, 0.6176, 0.0411],\n          [0.3929, 0.7295, 0.3109,  ..., 0.4812, 0.3142, 0.5134],\n          [0.2127, 0.0550, 0.2415,  ..., 0.8454, 0.4706, 0.9216],\n          ...,\n          [0.6123, 0.2519, 0.6812,  ..., 0.3051, 0.9716, 0.8173],\n          [0.9547, 0.7211, 0.5296,  ..., 0.5307, 0.0550, 0.6432],\n          [0.7741, 0.8711, 0.4834,  ..., 0.3698, 0.9650, 0.4807]]],\n\n\n        [[[0.5684, 0.5570, 0.8530,  ..., 0.8362, 0.4354, 0.9792],\n          [0.7007, 0.4779, 0.5254,  ..., 0.1970, 0.5854, 0.8272],\n          [0.9299, 0.4528, 0.5901,  ..., 0.5848, 0.4430, 0.8373],\n          ...,\n          [0.4307, 0.6259, 0.0703,  ..., 0.2806, 0.8825, 0.1347],\n          [0.9681, 0.7167, 0.8888,  ..., 0.9243, 0.5179, 0.5533],\n          [0.7913, 0.1360, 0.5080,  ..., 0.1637, 0.3810, 0.0071]]]])\ntensor([[-3,  2,  3],\n        [ 4,  5,  6]])\n"
     ]
    }
   ],
   "source": [
    "x=torch.tensor([[[1,2,3],\n",
    "                 [3,4,5]],\n",
    "                [[6,7,9],\n",
    "                 [9,10,11]]])                  # 3D tensor using list of shape 2,2,3\n",
    "y = torch.rand(16,1,28,28)                     # uniform dist between 0,1 (16 1-channel(gray scale) 28x28 image)\n",
    "z = torch.randn(1,1,2,2)                       # from normal distribution mu=0 std=1\n",
    "ones = torch.ones(2,2,4)\n",
    "print(\"x    :\",x)\n",
    "print(\"sie x:\", x.size())\n",
    "print(y)\n",
    "print(t)"
   ]
  },
  {
   "source": [
    "## Aritmetic Operations"
   ],
   "cell_type": "markdown",
   "metadata": {}
  },
  {
   "cell_type": "code",
   "execution_count": 5,
   "metadata": {},
   "outputs": [
    {
     "output_type": "stream",
     "name": "stdout",
     "text": [
      "tensor([ 9, 12])\ntensor([ 9, 12])\ntensor([3, 4])\ntensor([3, 4])\ntensor([2, 2])\ntensor([2, 2])\ntensor([18, 32])\ntensor(50)\ntensor([ 9, 12])\ntensor([ 9, 12])\ntensor([[ 0.4466, -0.0056, -2.8534,  0.6542],\n        [-0.9499,  1.4800, -0.7234, -0.8292]])\ntensor([[ 0.4466, -0.0056, -2.8534,  0.6542],\n        [-0.9499,  1.4800, -0.7234, -0.8292]])\ntensor([[ 0.4466, -0.0056, -2.8534,  0.6542],\n        [-0.9499,  1.4800, -0.7234, -0.8292]])\n"
     ]
    }
   ],
   "source": [
    "x = torch.tensor([6,8])\n",
    "y = torch.tensor([3,4])\n",
    "print(x+y)                     # sum\n",
    "print(x.add(y))                # sum 2\n",
    "print(x-y)                     # substract\n",
    "print(x.sub(y))                # substract 2\n",
    "print(x/y)                     # divide\n",
    "print(x.div(y))                # divide 2print(torch.matmul(m2,m3))     # broadcasting\n",
    "print(x*y)                     # element wise product\n",
    "print(x@y)                     # dot product if both are 1-d tensor\n",
    "\n",
    "print(x.add_(y))               # inline addition\n",
    "print(x)                       # value of x has changed\n",
    "\n",
    "m1 = torch.randn(2, 3)\n",
    "m2 = torch.randn(3, 4)\n",
    "m3 = torch.randn(1,3)\n",
    "mult = torch.mm(m1,m2)         # no broadcast\n",
    "print(mult)\n",
    "mult2 = m1 @ m2                # matrix multiplication\n",
    "print(mult2)\n",
    "mult3 = torch.matmul(m1,m2)    # with broadcast\n",
    "print(mult3)\n",
    "\n"
   ]
  },
  {
   "source": [
    "## Important Aggregation Functions"
   ],
   "cell_type": "markdown",
   "metadata": {}
  },
  {
   "cell_type": "code",
   "execution_count": 6,
   "metadata": {},
   "outputs": [
    {
     "output_type": "stream",
     "name": "stdout",
     "text": [
      "tensor([[0., 1.],\n        [2., 3.],\n        [4., 5.],\n        [6., 7.]])\ntensor(28.)\ntensor(7.)\ntensor(0.)\ntensor(2.4495)\ntensor(3.5000)\ntensor(3.)\n"
     ]
    }
   ],
   "source": [
    "x = torch.arange(8.).view(4,2)\n",
    "print(x)\n",
    "print(x.sum())\n",
    "print(x.max())\n",
    "print(x.min())\n",
    "print(x.std())\n",
    "print(x.mean())\n",
    "print(x.median())\n"
   ]
  },
  {
   "source": [
    "## Dimension"
   ],
   "cell_type": "markdown",
   "metadata": {}
  },
  {
   "cell_type": "code",
   "execution_count": 7,
   "metadata": {},
   "outputs": [
    {
     "output_type": "stream",
     "name": "stdout",
     "text": [
      "tensor([[0., 1.],\n        [2., 3.],\n        [4., 5.]])\ntensor([6., 9.])\ntensor([1., 5., 9.])\n"
     ]
    }
   ],
   "source": [
    "x = torch.arange(6.).view(3,2)\n",
    "print(x)\n",
    "# collapse the specified dimension\n",
    "print(x.sum(dim=0)) # sum rows. think as x[0] + x[1] + x[2]\n",
    "print(x.sum(dim=1)) # sum elements of each row. think as x[0].sum() , x[1].sum() , x[2].sum()"
   ]
  },
  {
   "source": [
    "## Adding or removing dimensions"
   ],
   "cell_type": "markdown",
   "metadata": {}
  },
  {
   "cell_type": "code",
   "execution_count": 9,
   "metadata": {},
   "outputs": [
    {
     "output_type": "stream",
     "name": "stdout",
     "text": [
      "torch.Size([10, 28, 28])\ntorch.Size([10, 1, 28, 28])\ntorch.Size([10, 28, 28])\n"
     ]
    }
   ],
   "source": [
    "x = torch.randn(10,28,28)\n",
    "print(x.shape)\n",
    "x = x.unsqueeze(dim=1)         # add a new dimension after the first dimension\n",
    "print(x.shape)\n",
    "x = x.squeeze()                # remove dimensions of size 1\n",
    "print(x.shape)"
   ]
  }
 ]
}