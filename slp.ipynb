{
 "metadata": {
  "language_info": {
   "codemirror_mode": {
    "name": "ipython",
    "version": 3
   },
   "file_extension": ".py",
   "mimetype": "text/x-python",
   "name": "python",
   "nbconvert_exporter": "python",
   "pygments_lexer": "ipython3",
   "version": "3.7.2-final"
  },
  "orig_nbformat": 2,
  "kernelspec": {
   "name": "python37264bitp37conda40bdd08730654a3489938532f8989fa4",
   "display_name": "Python 3.7.2 64-bit ('p37': conda)",
   "language": "python"
  }
 },
 "nbformat": 4,
 "nbformat_minor": 2,
 "cells": [
  {
   "source": [
    "# Tensors\n",
    "A tensor is an n-dimensional array.\n",
    "## Scalar  (0-dimensional tensor)\n",
    "0 dimesional tensor"
   ],
   "cell_type": "markdown",
   "metadata": {}
  },
  {
   "cell_type": "code",
   "execution_count": 23,
   "metadata": {},
   "outputs": [
    {
     "output_type": "stream",
     "name": "stdout",
     "text": [
      "x     : tensor(2)\nitem  : 2\ndtype : torch.int64\ndim   : 0\nnumel : 1\n"
     ]
    }
   ],
   "source": [
    "import torch\n",
    "\n",
    "x = torch.tensor(2)                      #  scalar with dtype int64 \n",
    "y = torch.tensor(2.)                     #  scalar with dtype float32\n",
    "z = torch.tensor(2, dtype=torch.double)  #  scalar with dtype float64\n",
    "print(\"x     :\", x)\n",
    "print(\"item  :\", x.item())                          #  item() returns the scalar value within the tensor\n",
    "print(\"dtype :\", x.dtype)                           # data type of the tensor values\n",
    "print(\"dim   :\", x.dim())                           # dimension of the tensor\n",
    "print(\"numel :\", x.numel())                         # number of elements in the tensor\n",
    " "
   ]
  },
  {
   "source": [
    "## 1-dimensional tensor"
   ],
   "cell_type": "markdown",
   "metadata": {}
  },
  {
   "cell_type": "code",
   "execution_count": 24,
   "metadata": {},
   "outputs": [
    {
     "output_type": "stream",
     "name": "stdout",
     "text": [
      "x   : tensor([1, 2, 3, 4, 5, 6])\ny   : tensor([1, 2, 3, 4, 5, 6])\nones: tensor([1., 1., 1., 1., 1., 1., 1.])\nshape x:  torch.Size([6])\nsize  x:  torch.Size([6])\n"
     ]
    }
   ],
   "source": [
    "x = torch.tensor([1,2,3,4,5,6])   # Tensor from a list\n",
    "y = torch.arange(1,7)             # Tensor using arange function\n",
    "ones = torch.ones(7)\n",
    "print(\"x   :\", x)\n",
    "print(\"y   :\", y)\n",
    "print(\"ones:\", ones)\n",
    "print(\"shape x: \", x.shape)\n",
    "print(\"size  x: \", x.size())"
   ]
  },
  {
   "source": [
    "## 2-dimensional tensor, view(), eye(), diag(), zeros()"
   ],
   "cell_type": "markdown",
   "metadata": {}
  },
  {
   "cell_type": "code",
   "execution_count": 25,
   "metadata": {},
   "outputs": [
    {
     "output_type": "stream",
     "name": "stdout",
     "text": [
      "x: tensor([[-3,  2],\n        [ 3,  4],\n        [ 5,  6]])\ny: tensor([[-3,  2,  3],\n        [ 4,  5,  6]])\nz: tensor([[-3,  2,  3],\n        [ 4,  5,  6]])\nt: tensor([[-3,  2,  3],\n        [ 4,  5,  6]])\ntensor([[1., 0., 0., 0.],\n        [0., 1., 0., 0.],\n        [0., 0., 1., 0.],\n        [0., 0., 0., 1.]])\ntensor([1., 1., 1., 1.])\ntensor([1., 1., 1., 1., 1., 1., 1.])\ntensor([[0, 0, 0],\n        [0, 0, 0]])\n"
     ]
    }
   ],
   "source": [
    "x = torch.tensor([[1,2],\n",
    "                  [3,4],\n",
    "                  [5,6]])                       # 2D tensor from list of size 3,2\n",
    "y = x.view(2,3)                                 # use view() to reshape the tensor\n",
    "z = x.view(-1,3)                                # -1 states that infer the dimension from the remaining dimensions\n",
    "t = x.reshape(2,3)                              # same as view but may copy underlying data\n",
    "t[0,0] = -3\n",
    "I = torch.eye(4)                                # unit matrix\n",
    "diags = torch.diag(I)                           # diagonals of a matrix\n",
    "zeros = torch.zeros(2,3, dtype=torch.int64)     # zero matrix default dtype is float32\n",
    "print(\"x:\", x)\n",
    "print(\"y:\", y) \n",
    "print(\"z:\", z)\n",
    "print(\"t:\", t)\n",
    "print(I)\n",
    "print(diags)\n",
    "print(ones)\n",
    "print(zeros)"
   ]
  },
  {
   "source": [
    "## n-dimensional tensor"
   ],
   "cell_type": "markdown",
   "metadata": {}
  },
  {
   "cell_type": "code",
   "execution_count": 26,
   "metadata": {},
   "outputs": [
    {
     "output_type": "stream",
     "name": "stdout",
     "text": [
      "x    : tensor([[[ 1,  2,  3],\n",
      "         [ 3,  4,  5]],\n",
      "\n",
      "        [[ 6,  7,  9],\n",
      "         [ 9, 10, 11]]])\n",
      "sie x: torch.Size([2, 2, 3])\n",
      "tensor([[[[0.0236, 0.3107, 0.8581,  ..., 0.5561, 0.0696, 0.2578],\n",
      "          [0.6743, 0.0368, 0.0844,  ..., 0.8017, 0.6028, 0.2515],\n",
      "          [0.2095, 0.3356, 0.4103,  ..., 0.7873, 0.5631, 0.5813],\n",
      "          ...,\n",
      "          [0.6882, 0.6978, 0.7172,  ..., 0.6665, 0.5003, 0.5650],\n",
      "          [0.9800, 0.4907, 0.3813,  ..., 0.6181, 0.9712, 0.0959],\n",
      "          [0.1023, 0.8396, 0.3838,  ..., 0.0521, 0.1943, 0.0375]]],\n",
      "\n",
      "\n",
      "        [[[0.2612, 0.7753, 0.8130,  ..., 0.1729, 0.6137, 0.3509],\n",
      "          [0.2409, 0.9623, 0.8169,  ..., 0.7577, 0.6064, 0.3983],\n",
      "          [0.6163, 0.2844, 0.2213,  ..., 0.3081, 0.7101, 0.6779],\n",
      "          ...,\n",
      "          [0.4262, 0.3199, 0.2774,  ..., 0.1605, 0.9008, 0.0507],\n",
      "          [0.9686, 0.2518, 0.9805,  ..., 0.1063, 0.2200, 0.8087],\n",
      "          [0.0207, 0.7301, 0.3672,  ..., 0.4337, 0.5581, 0.6940]]],\n",
      "\n",
      "\n",
      "        [[[0.7990, 0.9012, 0.8225,  ..., 0.0304, 0.1886, 0.2690],\n",
      "          [0.0024, 0.6574, 0.0635,  ..., 0.0555, 0.1303, 0.2761],\n",
      "          [0.5868, 0.3867, 0.3437,  ..., 0.0118, 0.5431, 0.7916],\n",
      "          ...,\n",
      "          [0.7128, 0.3992, 0.6300,  ..., 0.3472, 0.4198, 0.6284],\n",
      "          [0.0310, 0.9809, 0.4752,  ..., 0.7022, 0.0830, 0.1789],\n",
      "          [0.0774, 0.8279, 0.2887,  ..., 0.4915, 0.9266, 0.1058]]],\n",
      "\n",
      "\n",
      "        ...,\n",
      "\n",
      "\n",
      "        [[[0.8582, 0.5356, 0.1036,  ..., 0.5808, 0.7456, 0.9425],\n",
      "          [0.3568, 0.8512, 0.7797,  ..., 0.4404, 0.3642, 0.3300],\n",
      "          [0.8826, 0.4082, 0.5638,  ..., 0.2429, 0.1714, 0.3713],\n",
      "          ...,\n",
      "          [0.5786, 0.5831, 0.5973,  ..., 0.4462, 0.5504, 0.2249],\n",
      "          [0.0812, 0.6663, 0.1320,  ..., 0.3355, 0.8447, 0.9514],\n",
      "          [0.0837, 0.4273, 0.2577,  ..., 0.6731, 0.5034, 0.8000]]],\n",
      "\n",
      "\n",
      "        [[[0.2665, 0.2924, 0.9994,  ..., 0.0975, 0.2256, 0.8474],\n",
      "          [0.6119, 0.4688, 0.0860,  ..., 0.7037, 0.4183, 0.7003],\n",
      "          [0.1492, 0.4482, 0.1796,  ..., 0.4117, 0.5292, 0.7647],\n",
      "          ...,\n",
      "          [0.8329, 0.2141, 0.0894,  ..., 0.2454, 0.0474, 0.5726],\n",
      "          [0.2276, 0.0429, 0.1775,  ..., 0.4929, 0.6856, 0.8309],\n",
      "          [0.4197, 0.5996, 0.4012,  ..., 0.0063, 0.2396, 0.4425]]],\n",
      "\n",
      "\n",
      "        [[[0.8949, 0.0382, 0.3044,  ..., 0.8394, 0.3783, 0.7421],\n",
      "          [0.7289, 0.1680, 0.9449,  ..., 0.5453, 0.9153, 0.5230],\n",
      "          [0.6387, 0.1152, 0.7293,  ..., 0.7532, 0.3467, 0.4147],\n",
      "          ...,\n",
      "          [0.0877, 0.3747, 0.0857,  ..., 0.4934, 0.1772, 0.3714],\n",
      "          [0.4117, 0.7464, 0.2197,  ..., 0.4046, 0.5119, 0.4354],\n",
      "          [0.1030, 0.2640, 0.5349,  ..., 0.9971, 0.7169, 0.3607]]]])\n",
      "tensor([[-3,  2,  3],\n",
      "        [ 4,  5,  6]])\n"
     ]
    }
   ],
   "source": [
    "x=torch.tensor([[[1,2,3],\n",
    "                 [3,4,5]],\n",
    "                [[6,7,9],\n",
    "                 [9,10,11]]])                  # 3D tensor using list of shape 2,2,3\n",
    "y = torch.rand(16,1,28,28)                     # uniform dist between 0,1 (16 1-channel(gray scale) 28x28 image)\n",
    "z = torch.randn(1,1,2,2)                       # from normal distribution mu=0 std=1\n",
    "ones = torch.ones(2,2,4)\n",
    "print(\"x    :\",x)\n",
    "print(\"sie x:\", x.size())\n",
    "print(y)\n",
    "print(t)"
   ]
  },
  {
   "source": [
    "## Aritmetic Operations"
   ],
   "cell_type": "markdown",
   "metadata": {}
  },
  {
   "cell_type": "code",
   "execution_count": 27,
   "metadata": {},
   "outputs": [
    {
     "output_type": "stream",
     "name": "stdout",
     "text": [
      "tensor([ 9, 12])\n",
      "tensor([ 9, 12])\n",
      "tensor([3, 4])\n",
      "tensor([3, 4])\n",
      "tensor([2, 2])\n",
      "tensor([2, 2])\n",
      "tensor([18, 32])\n",
      "tensor(50)\n",
      "tensor([ 9, 12])\n",
      "tensor([ 9, 12])\n",
      "tensor([[-3.2838, -1.6502,  0.1641,  1.9834],\n",
      "        [-0.1253,  0.6055, -0.2162, -2.1781]])\n",
      "tensor([[-3.2838, -1.6502,  0.1641,  1.9834],\n",
      "        [-0.1253,  0.6055, -0.2162, -2.1781]])\n",
      "tensor([[-3.2838, -1.6502,  0.1641,  1.9834],\n",
      "        [-0.1253,  0.6055, -0.2162, -2.1781]])\n"
     ]
    }
   ],
   "source": [
    "x = torch.tensor([6,8])\n",
    "y = torch.tensor([3,4])\n",
    "print(x+y)                     # sum\n",
    "print(x.add(y))                # sum 2\n",
    "print(x-y)                     # substract\n",
    "print(x.sub(y))                # substract 2\n",
    "print(x/y)                     # divide\n",
    "print(x.div(y))                # divide 2print(torch.matmul(m2,m3))     # broadcasting\n",
    "print(x*y)                     # element wise product\n",
    "print(x@y)                     # dot product if both are 1-d tensor\n",
    "\n",
    "print(x.add_(y))               # inline addition\n",
    "print(x)                       # value of x has changed\n",
    "\n",
    "m1 = torch.randn(2, 3)\n",
    "m2 = torch.randn(3, 4)\n",
    "m3 = torch.randn(1,3)\n",
    "mult = torch.mm(m1,m2)         # no broadcast\n",
    "print(mult)\n",
    "mult2 = m1 @ m2                # matrix multiplication\n",
    "print(mult2)\n",
    "mult3 = torch.matmul(m1,m2)    # with broadcast\n",
    "print(mult3)\n",
    "\n"
   ]
  },
  {
   "source": [
    "## Important Aggregation Functions"
   ],
   "cell_type": "markdown",
   "metadata": {}
  },
  {
   "cell_type": "code",
   "execution_count": 28,
   "metadata": {},
   "outputs": [
    {
     "output_type": "stream",
     "name": "stdout",
     "text": [
      "tensor([[0., 1.],\n        [2., 3.],\n        [4., 5.],\n        [6., 7.]])\ntensor(28.)\ntensor(7.)\ntensor(0.)\ntensor(2.4495)\ntensor(3.5000)\ntensor(3.)\n"
     ]
    }
   ],
   "source": [
    "x = torch.arange(8.).view(4,2)\n",
    "print(x)\n",
    "print(x.sum())\n",
    "print(x.max())\n",
    "print(x.min())\n",
    "print(x.std())\n",
    "print(x.mean())\n",
    "print(x.median())\n"
   ]
  },
  {
   "source": [
    "## Dimension"
   ],
   "cell_type": "markdown",
   "metadata": {}
  },
  {
   "cell_type": "code",
   "execution_count": 29,
   "metadata": {},
   "outputs": [
    {
     "output_type": "stream",
     "name": "stdout",
     "text": [
      "tensor([[0., 1.],\n        [2., 3.],\n        [4., 5.]])\ntensor([6., 9.])\ntensor([1., 5., 9.])\n"
     ]
    }
   ],
   "source": [
    "x = torch.arange(6.).view(3,2)\n",
    "print(x)\n",
    "# collapse the specified dimension\n",
    "print(x.sum(dim=0)) # sum rows. think as x[0] + x[1] + x[2]\n",
    "print(x.sum(dim=1)) # sum elements of each row. think as x[0].sum() , x[1].sum() , x[2].sum()"
   ]
  },
  {
   "source": [
    "# SLP in Pytorch"
   ],
   "cell_type": "markdown",
   "metadata": {}
  },
  {
   "cell_type": "code",
   "execution_count": 30,
   "metadata": {},
   "outputs": [],
   "source": [
    "import torch\n",
    "import torch.nn as nn\n",
    "import torch.nn.functional as F\n",
    "\n",
    "# All networks derive from the base class nn.Module\n",
    "class Perceptron(nn.Module):\n",
    "    # get input and output dimensions as input\n",
    "    def __init__(self, d, K, H=None):\n",
    "        # all derived classes must call __init__ method of super class\n",
    "        super(Perceptron, self).__init__()\n",
    "        if H is None:\n",
    "            # create a fully connected layer from input to output\n",
    "            self.model = nn.Linear(d, K)\n",
    "        else:\n",
    "            self.model = nn.Sequential(\n",
    "                nn.Linear(d,H),\n",
    "                nn.Sigmoid(),\n",
    "                nn.Linear(H,K)\n",
    "            )\n",
    "    \n",
    "    # forward method should get the input and return the output\n",
    "    def forward(self,x):\n",
    "        batch_size = x.size()[0]\n",
    "        # flatten the image from BxCxHXW to Bx784\n",
    "        x = x.view(batch_size, -1)\n",
    "        x = self.model(x)\n",
    "        # softmax is internally done inside cross entropy loss\n",
    "        return x\n",
    "\n"
   ]
  },
  {
   "cell_type": "code",
   "execution_count": 31,
   "metadata": {},
   "outputs": [],
   "source": [
    "import matplotlib.pyplot as plt\n",
    "def plot_accuracies(epocs, train_accuracies, test_accuracies):\n",
    "    plt.plot(epocs, train_accuracies, 'o-', label=\"Training Data\")\n",
    "    plt.plot(epocs, test_accuracies, 'o-', label=\"Test Data\")\n",
    "    plt.ylabel('Accuracy')\n",
    "    plt.xlabel('Epoch')\n",
    "    plt.title(\"SLP Accuracy for epoch={}\".format(epocs))\n",
    "    plt.legend()\n",
    "    plt.show()"
   ]
  },
  {
   "cell_type": "code",
   "execution_count": 32,
   "metadata": {},
   "outputs": [
    {
     "output_type": "stream",
     "name": "stdout",
     "text": [
      "model.0.weight torch.Size([25, 784])\n",
      "model.0.bias torch.Size([25])\n",
      "model.2.weight torch.Size([10, 25])\n",
      "model.2.bias torch.Size([10])\n",
      "Epoch: 0 Tr Loss:530.702 Tt Loss:90.260 Tr Accuracy:0.261 Tt Accuracy:0.264\n",
      "Epoch: 1 Tr Loss:516.827 Tt Loss:87.829 Tr Accuracy:0.552 Tt Accuracy:0.564\n",
      "Epoch: 2 Tr Loss:499.999 Tt Loss:84.878 Tr Accuracy:0.567 Tt Accuracy:0.577\n",
      "Epoch: 3 Tr Loss:478.935 Tt Loss:81.193 Tr Accuracy:0.590 Tt Accuracy:0.599\n",
      "Epoch: 4 Tr Loss:453.881 Tt Loss:76.821 Tr Accuracy:0.608 Tt Accuracy:0.618\n",
      "Epoch: 5 Tr Loss:426.312 Tt Loss:72.024 Tr Accuracy:0.625 Tt Accuracy:0.635\n",
      "Epoch: 6 Tr Loss:398.154 Tt Loss:67.147 Tr Accuracy:0.650 Tt Accuracy:0.663\n",
      "Epoch: 7 Tr Loss:371.073 Tt Loss:62.459 Tr Accuracy:0.675 Tt Accuracy:0.685\n",
      "Epoch: 8 Tr Loss:345.897 Tt Loss:58.125 Tr Accuracy:0.698 Tt Accuracy:0.709\n",
      "Epoch: 9 Tr Loss:323.089 Tt Loss:54.210 Tr Accuracy:0.722 Tt Accuracy:0.731\n",
      "Epoch:10 Tr Loss:302.541 Tt Loss:50.697 Tr Accuracy:0.739 Tt Accuracy:0.751\n",
      "Epoch:11 Tr Loss:284.350 Tt Loss:47.576 Tr Accuracy:0.756 Tt Accuracy:0.767\n",
      "Epoch:12 Tr Loss:268.023 Tt Loss:44.794 Tr Accuracy:0.770 Tt Accuracy:0.779\n",
      "Epoch:13 Tr Loss:253.488 Tt Loss:42.313 Tr Accuracy:0.782 Tt Accuracy:0.792\n",
      "Epoch:14 Tr Loss:240.580 Tt Loss:40.101 Tr Accuracy:0.790 Tt Accuracy:0.800\n",
      "Epoch:15 Tr Loss:228.910 Tt Loss:38.125 Tr Accuracy:0.799 Tt Accuracy:0.808\n",
      "Epoch:16 Tr Loss:218.539 Tt Loss:36.346 Tr Accuracy:0.807 Tt Accuracy:0.814\n",
      "Epoch:17 Tr Loss:208.997 Tt Loss:34.740 Tr Accuracy:0.814 Tt Accuracy:0.822\n",
      "Epoch:18 Tr Loss:200.443 Tt Loss:33.295 Tr Accuracy:0.820 Tt Accuracy:0.827\n",
      "Epoch:19 Tr Loss:192.774 Tt Loss:31.982 Tr Accuracy:0.825 Tt Accuracy:0.834\n",
      "Epoch:20 Tr Loss:185.753 Tt Loss:30.793 Tr Accuracy:0.830 Tt Accuracy:0.839\n",
      "Epoch:21 Tr Loss:179.283 Tt Loss:29.704 Tr Accuracy:0.834 Tt Accuracy:0.843\n",
      "Epoch:22 Tr Loss:173.426 Tt Loss:28.710 Tr Accuracy:0.839 Tt Accuracy:0.846\n",
      "Epoch:23 Tr Loss:168.162 Tt Loss:27.796 Tr Accuracy:0.842 Tt Accuracy:0.851\n",
      "Epoch:24 Tr Loss:163.064 Tt Loss:26.952 Tr Accuracy:0.846 Tt Accuracy:0.853\n",
      "Epoch:25 Tr Loss:158.608 Tt Loss:26.176 Tr Accuracy:0.849 Tt Accuracy:0.857\n",
      "Epoch:26 Tr Loss:154.317 Tt Loss:25.450 Tr Accuracy:0.852 Tt Accuracy:0.861\n",
      "Epoch:27 Tr Loss:150.405 Tt Loss:24.783 Tr Accuracy:0.855 Tt Accuracy:0.864\n",
      "Epoch:28 Tr Loss:146.769 Tt Loss:24.162 Tr Accuracy:0.858 Tt Accuracy:0.867\n",
      "Epoch:29 Tr Loss:143.275 Tt Loss:23.580 Tr Accuracy:0.861 Tt Accuracy:0.869\n",
      "Epoch:30 Tr Loss:140.016 Tt Loss:23.036 Tr Accuracy:0.863 Tt Accuracy:0.871\n",
      "Epoch:31 Tr Loss:137.073 Tt Loss:22.525 Tr Accuracy:0.865 Tt Accuracy:0.872\n",
      "Epoch:32 Tr Loss:134.263 Tt Loss:22.047 Tr Accuracy:0.867 Tt Accuracy:0.873\n",
      "Epoch:33 Tr Loss:131.526 Tt Loss:21.596 Tr Accuracy:0.869 Tt Accuracy:0.875\n",
      "Epoch:34 Tr Loss:129.100 Tt Loss:21.172 Tr Accuracy:0.871 Tt Accuracy:0.876\n",
      "Epoch:35 Tr Loss:126.740 Tt Loss:20.775 Tr Accuracy:0.873 Tt Accuracy:0.878\n",
      "Epoch:36 Tr Loss:124.455 Tt Loss:20.397 Tr Accuracy:0.874 Tt Accuracy:0.880\n",
      "Epoch:37 Tr Loss:122.303 Tt Loss:20.043 Tr Accuracy:0.876 Tt Accuracy:0.881\n",
      "Epoch:38 Tr Loss:120.426 Tt Loss:19.703 Tr Accuracy:0.878 Tt Accuracy:0.883\n",
      "Epoch:39 Tr Loss:118.504 Tt Loss:19.378 Tr Accuracy:0.879 Tt Accuracy:0.884\n",
      "Epoch:40 Tr Loss:116.678 Tt Loss:19.081 Tr Accuracy:0.880 Tt Accuracy:0.886\n",
      "Epoch:41 Tr Loss:115.038 Tt Loss:18.786 Tr Accuracy:0.881 Tt Accuracy:0.887\n",
      "Epoch:42 Tr Loss:113.268 Tt Loss:18.514 Tr Accuracy:0.883 Tt Accuracy:0.888\n",
      "Epoch:43 Tr Loss:111.802 Tt Loss:18.254 Tr Accuracy:0.884 Tt Accuracy:0.889\n",
      "Epoch:44 Tr Loss:110.247 Tt Loss:18.008 Tr Accuracy:0.885 Tt Accuracy:0.890\n",
      "Epoch:45 Tr Loss:108.920 Tt Loss:17.769 Tr Accuracy:0.886 Tt Accuracy:0.891\n",
      "Epoch:46 Tr Loss:107.520 Tt Loss:17.547 Tr Accuracy:0.887 Tt Accuracy:0.892\n",
      "Epoch:47 Tr Loss:106.260 Tt Loss:17.331 Tr Accuracy:0.888 Tt Accuracy:0.893\n",
      "Epoch:48 Tr Loss:105.053 Tt Loss:17.124 Tr Accuracy:0.889 Tt Accuracy:0.893\n",
      "Epoch:49 Tr Loss:103.833 Tt Loss:16.927 Tr Accuracy:0.890 Tt Accuracy:0.894\n"
     ]
    }
   ],
   "source": [
    "import torch\n",
    "import torchvision\n",
    "import torchvision.transforms as transforms\n",
    "import torchvision.datasets as datasets\n",
    "import torch.optim as optim\n",
    "import torch.optim.lr_scheduler as lr_scheduler\n",
    "\n",
    "# torch parameters\n",
    "SEED = 60            # reproducability\n",
    "# NN Parameters\n",
    "EPOCHS = 50          # number of epochs\n",
    "LR = 0.001           # learning rate\n",
    "MOMENTUM = 0.9       # momentum for the optimizer\n",
    "WEIGHT_DECAY = 1e-5  # weight decay for the optimizer\n",
    "GAMMA = 0.1          # learning rate schedular\n",
    "BATCH_SIZE = 64      # number of images to load per iteration\n",
    "d = 784              # number of input features \n",
    "K = 10               # number of output features\n",
    "\n",
    "\n",
    "# manual seed to reproduce same results\n",
    "torch.manual_seed(SEED)\n",
    "\n",
    "# DOWNLOADING AND LOADING MNIST DATASET \n",
    "mnist_folder= './data'\n",
    "\n",
    "# download the dataset if not already downloaded and set necessery transforms\n",
    "tr_dataset   = datasets.MNIST(mnist_folder, train=True, download=True, transform=transforms.ToTensor())\n",
    "# prepare loader for the training dataset\n",
    "train_loader = torch.utils.data.DataLoader(tr_dataset, batch_size=BATCH_SIZE, shuffle=True)\n",
    "\n",
    "# download the dataset if not already downloaded and set necessery transforms\n",
    "test_dataset = datasets.MNIST(mnist_folder, train=False, download=True, transform=transforms.ToTensor())\n",
    "# prepare loader for the test dataset\n",
    "test_loader = torch.utils.data.DataLoader(test_dataset, batch_size=BATCH_SIZE, shuffle=False)\n",
    "\n",
    "# create the network\n",
    "# net = Perceptron(d,K)  # Single Layer perceptron\n",
    "net = Perceptron(d,K, H=25)  # Multi Layer perceptron\n",
    "# print network parameter names and their size\n",
    "for name, param in net.named_parameters():\n",
    "  print(name, param.size())\n",
    "\n",
    "# check if CUDA is available\n",
    "cuda = torch.cuda.is_available()  \n",
    "device = torch.device(\"cuda:0\" if cuda else \"cpu\")\n",
    "\n",
    "# if cuda is available move network into gpu\n",
    "net.to(device)\n",
    "\n",
    "# specify the loss to be used\n",
    "# softmax is internally computed.\n",
    "loss_fn = nn.CrossEntropyLoss()\n",
    "# specify the optimizer to update the weights during backward pass\n",
    "optimizer = optim.SGD(net.parameters(), lr=LR, momentum=MOMENTUM, weight_decay=WEIGHT_DECAY)\n",
    "# change learning rate over time\n",
    "scheduler = lr_scheduler.StepLR(optimizer, step_size=10, gamma=GAMMA)\n",
    "\n",
    "\n",
    "def train_net():\n",
    "  # put the network in training mode\n",
    "  net.train()\n",
    "  # keep record of the loss value\n",
    "  epoch_loss = 0.0\n",
    "  # use training data as batches\n",
    "  for xt, rt in train_loader:\n",
    "    # move training instances and corresponding labels into gpu if cuda is available\n",
    "    xt, rt = xt.to(device), rt.to(device)\n",
    "    # clear the previously accumulated gradients\n",
    "    optimizer.zero_grad()\n",
    "    # forward the network\n",
    "    yt = net(xt)\n",
    "    # calculate loss\n",
    "    loss = loss_fn(yt, rt)\n",
    "    # make a backward pass, calculate gradients\n",
    "    loss.backward()\n",
    "    # update weights\n",
    "    optimizer.step()\n",
    "    # accumulate loss\n",
    "    epoch_loss += loss.item()\n",
    "  return epoch_loss\n",
    "\n",
    "def eval_net(loader):\n",
    "  # put the network in evaluation mode\n",
    "  net.eval()\n",
    "  # keep record of the loss value\n",
    "  total_loss = 0.0\n",
    "  # number of correctly classified instances\n",
    "  correct = 0\n",
    "  for xt, rt in loader:\n",
    "    # move training instances and corresponding labels into gpu if cuda is available\n",
    "    xt, rt = xt.to(device), rt.to(device)\n",
    "    # forward the network\n",
    "    yt = net(xt)\n",
    "    # calculate loss\n",
    "    loss = loss_fn(yt, rt)\n",
    "    # accumulate loss\n",
    "    total_loss += loss.item()\n",
    "    # get predicted classes\n",
    "    pred = yt.argmax(dim=1)\n",
    "    # accumulate correctly classified image counts\n",
    "    correct += (pred == rt).sum().item()\n",
    "    #correct += pred.eq(rt.view_as(pred)).sum().item()\n",
    "  return correct/len(loader.dataset), total_loss  \n",
    "\n",
    "train_acc =[]\n",
    "test_acc =[]\n",
    "\n",
    "train_loss=[]\n",
    "test_loss=[]\n",
    "\n",
    "# train the network\n",
    "for epoch in range(EPOCHS):\n",
    "  # train network for one epoch\n",
    "  train_net()\n",
    "  # get accuracy and loss on the training dataset\n",
    "  tr_ac, tr_loss = eval_net(train_loader)\n",
    "  # get accuracy and loss on the test dataset\n",
    "  tt_ac, tt_loss = eval_net(test_loader)\n",
    "  # save training stats\n",
    "  train_acc.append(tr_ac)\n",
    "  train_loss.append(tr_loss)\n",
    "  # save test stats\n",
    "  test_acc.append(tt_ac)\n",
    "  test_loss.append(tt_loss)\n",
    "  print(f\"Epoch:{epoch:2} Tr Loss:{tr_loss:.3f} Tt Loss:{tt_loss:.3f} Tr Accuracy:{tr_ac:.3f} Tt Accuracy:{tt_ac:.3f}\")\n"
   ]
  },
  {
   "cell_type": "code",
   "execution_count": 36,
   "metadata": {},
   "outputs": [
    {
     "output_type": "display_data",
     "data": {
      "text/plain": "<Figure size 432x288 with 1 Axes>",
      "image/svg+xml": "<?xml version=\"1.0\" encoding=\"utf-8\" standalone=\"no\"?>\n<!DOCTYPE svg PUBLIC \"-//W3C//DTD SVG 1.1//EN\"\n  \"http://www.w3.org/Graphics/SVG/1.1/DTD/svg11.dtd\">\n<!-- Created with matplotlib (https://matplotlib.org/) -->\n<svg height=\"277.314375pt\" version=\"1.1\" viewBox=\"0 0 389.28125 277.314375\" width=\"389.28125pt\" xmlns=\"http://www.w3.org/2000/svg\" xmlns:xlink=\"http://www.w3.org/1999/xlink\">\n <defs>\n  <style type=\"text/css\">\n*{stroke-linecap:butt;stroke-linejoin:round;}\n  </style>\n </defs>\n <g id=\"figure_1\">\n  <g id=\"patch_1\">\n   <path d=\"M 0 277.314375 \nL 389.28125 277.314375 \nL 389.28125 0 \nL 0 0 \nz\n\" style=\"fill:none;\"/>\n  </g>\n  <g id=\"axes_1\">\n   <g id=\"patch_2\">\n    <path d=\"M 43.78125 239.758125 \nL 378.58125 239.758125 \nL 378.58125 22.318125 \nL 43.78125 22.318125 \nz\n\" style=\"fill:#ffffff;\"/>\n   </g>\n   <g id=\"matplotlib.axis_1\">\n    <g id=\"xtick_1\">\n     <g id=\"line2d_1\">\n      <defs>\n       <path d=\"M 0 0 \nL 0 3.5 \n\" id=\"m03bf1fe226\" style=\"stroke:#000000;stroke-width:0.8;\"/>\n      </defs>\n      <g>\n       <use style=\"stroke:#000000;stroke-width:0.8;\" x=\"52.787929\" xlink:href=\"#m03bf1fe226\" y=\"239.758125\"/>\n      </g>\n     </g>\n     <g id=\"text_1\">\n      <!-- 0 -->\n      <defs>\n       <path d=\"M 31.78125 66.40625 \nQ 24.171875 66.40625 20.328125 58.90625 \nQ 16.5 51.421875 16.5 36.375 \nQ 16.5 21.390625 20.328125 13.890625 \nQ 24.171875 6.390625 31.78125 6.390625 \nQ 39.453125 6.390625 43.28125 13.890625 \nQ 47.125 21.390625 47.125 36.375 \nQ 47.125 51.421875 43.28125 58.90625 \nQ 39.453125 66.40625 31.78125 66.40625 \nz\nM 31.78125 74.21875 \nQ 44.046875 74.21875 50.515625 64.515625 \nQ 56.984375 54.828125 56.984375 36.375 \nQ 56.984375 17.96875 50.515625 8.265625 \nQ 44.046875 -1.421875 31.78125 -1.421875 \nQ 19.53125 -1.421875 13.0625 8.265625 \nQ 6.59375 17.96875 6.59375 36.375 \nQ 6.59375 54.828125 13.0625 64.515625 \nQ 19.53125 74.21875 31.78125 74.21875 \nz\n\" id=\"DejaVuSans-48\"/>\n      </defs>\n      <g transform=\"translate(49.606679 254.356562)scale(0.1 -0.1)\">\n       <use xlink:href=\"#DejaVuSans-48\"/>\n      </g>\n     </g>\n    </g>\n    <g id=\"xtick_2\">\n     <g id=\"line2d_2\">\n      <g>\n       <use style=\"stroke:#000000;stroke-width:0.8;\" x=\"114.902957\" xlink:href=\"#m03bf1fe226\" y=\"239.758125\"/>\n      </g>\n     </g>\n     <g id=\"text_2\">\n      <!-- 10 -->\n      <defs>\n       <path d=\"M 12.40625 8.296875 \nL 28.515625 8.296875 \nL 28.515625 63.921875 \nL 10.984375 60.40625 \nL 10.984375 69.390625 \nL 28.421875 72.90625 \nL 38.28125 72.90625 \nL 38.28125 8.296875 \nL 54.390625 8.296875 \nL 54.390625 0 \nL 12.40625 0 \nz\n\" id=\"DejaVuSans-49\"/>\n      </defs>\n      <g transform=\"translate(108.540457 254.356562)scale(0.1 -0.1)\">\n       <use xlink:href=\"#DejaVuSans-49\"/>\n       <use x=\"63.623047\" xlink:href=\"#DejaVuSans-48\"/>\n      </g>\n     </g>\n    </g>\n    <g id=\"xtick_3\">\n     <g id=\"line2d_3\">\n      <g>\n       <use style=\"stroke:#000000;stroke-width:0.8;\" x=\"177.017985\" xlink:href=\"#m03bf1fe226\" y=\"239.758125\"/>\n      </g>\n     </g>\n     <g id=\"text_3\">\n      <!-- 20 -->\n      <defs>\n       <path d=\"M 19.1875 8.296875 \nL 53.609375 8.296875 \nL 53.609375 0 \nL 7.328125 0 \nL 7.328125 8.296875 \nQ 12.9375 14.109375 22.625 23.890625 \nQ 32.328125 33.6875 34.8125 36.53125 \nQ 39.546875 41.84375 41.421875 45.53125 \nQ 43.3125 49.21875 43.3125 52.78125 \nQ 43.3125 58.59375 39.234375 62.25 \nQ 35.15625 65.921875 28.609375 65.921875 \nQ 23.96875 65.921875 18.8125 64.3125 \nQ 13.671875 62.703125 7.8125 59.421875 \nL 7.8125 69.390625 \nQ 13.765625 71.78125 18.9375 73 \nQ 24.125 74.21875 28.421875 74.21875 \nQ 39.75 74.21875 46.484375 68.546875 \nQ 53.21875 62.890625 53.21875 53.421875 \nQ 53.21875 48.921875 51.53125 44.890625 \nQ 49.859375 40.875 45.40625 35.40625 \nQ 44.1875 33.984375 37.640625 27.21875 \nQ 31.109375 20.453125 19.1875 8.296875 \nz\n\" id=\"DejaVuSans-50\"/>\n      </defs>\n      <g transform=\"translate(170.655485 254.356562)scale(0.1 -0.1)\">\n       <use xlink:href=\"#DejaVuSans-50\"/>\n       <use x=\"63.623047\" xlink:href=\"#DejaVuSans-48\"/>\n      </g>\n     </g>\n    </g>\n    <g id=\"xtick_4\">\n     <g id=\"line2d_4\">\n      <g>\n       <use style=\"stroke:#000000;stroke-width:0.8;\" x=\"239.133013\" xlink:href=\"#m03bf1fe226\" y=\"239.758125\"/>\n      </g>\n     </g>\n     <g id=\"text_4\">\n      <!-- 30 -->\n      <defs>\n       <path d=\"M 40.578125 39.3125 \nQ 47.65625 37.796875 51.625 33 \nQ 55.609375 28.21875 55.609375 21.1875 \nQ 55.609375 10.40625 48.1875 4.484375 \nQ 40.765625 -1.421875 27.09375 -1.421875 \nQ 22.515625 -1.421875 17.65625 -0.515625 \nQ 12.796875 0.390625 7.625 2.203125 \nL 7.625 11.71875 \nQ 11.71875 9.328125 16.59375 8.109375 \nQ 21.484375 6.890625 26.8125 6.890625 \nQ 36.078125 6.890625 40.9375 10.546875 \nQ 45.796875 14.203125 45.796875 21.1875 \nQ 45.796875 27.640625 41.28125 31.265625 \nQ 36.765625 34.90625 28.71875 34.90625 \nL 20.21875 34.90625 \nL 20.21875 43.015625 \nL 29.109375 43.015625 \nQ 36.375 43.015625 40.234375 45.921875 \nQ 44.09375 48.828125 44.09375 54.296875 \nQ 44.09375 59.90625 40.109375 62.90625 \nQ 36.140625 65.921875 28.71875 65.921875 \nQ 24.65625 65.921875 20.015625 65.03125 \nQ 15.375 64.15625 9.8125 62.3125 \nL 9.8125 71.09375 \nQ 15.4375 72.65625 20.34375 73.4375 \nQ 25.25 74.21875 29.59375 74.21875 \nQ 40.828125 74.21875 47.359375 69.109375 \nQ 53.90625 64.015625 53.90625 55.328125 \nQ 53.90625 49.265625 50.4375 45.09375 \nQ 46.96875 40.921875 40.578125 39.3125 \nz\n\" id=\"DejaVuSans-51\"/>\n      </defs>\n      <g transform=\"translate(232.770513 254.356562)scale(0.1 -0.1)\">\n       <use xlink:href=\"#DejaVuSans-51\"/>\n       <use x=\"63.623047\" xlink:href=\"#DejaVuSans-48\"/>\n      </g>\n     </g>\n    </g>\n    <g id=\"xtick_5\">\n     <g id=\"line2d_5\">\n      <g>\n       <use style=\"stroke:#000000;stroke-width:0.8;\" x=\"301.24804\" xlink:href=\"#m03bf1fe226\" y=\"239.758125\"/>\n      </g>\n     </g>\n     <g id=\"text_5\">\n      <!-- 40 -->\n      <defs>\n       <path d=\"M 37.796875 64.3125 \nL 12.890625 25.390625 \nL 37.796875 25.390625 \nz\nM 35.203125 72.90625 \nL 47.609375 72.90625 \nL 47.609375 25.390625 \nL 58.015625 25.390625 \nL 58.015625 17.1875 \nL 47.609375 17.1875 \nL 47.609375 0 \nL 37.796875 0 \nL 37.796875 17.1875 \nL 4.890625 17.1875 \nL 4.890625 26.703125 \nz\n\" id=\"DejaVuSans-52\"/>\n      </defs>\n      <g transform=\"translate(294.88554 254.356562)scale(0.1 -0.1)\">\n       <use xlink:href=\"#DejaVuSans-52\"/>\n       <use x=\"63.623047\" xlink:href=\"#DejaVuSans-48\"/>\n      </g>\n     </g>\n    </g>\n    <g id=\"xtick_6\">\n     <g id=\"line2d_6\">\n      <g>\n       <use style=\"stroke:#000000;stroke-width:0.8;\" x=\"363.363068\" xlink:href=\"#m03bf1fe226\" y=\"239.758125\"/>\n      </g>\n     </g>\n     <g id=\"text_6\">\n      <!-- 50 -->\n      <defs>\n       <path d=\"M 10.796875 72.90625 \nL 49.515625 72.90625 \nL 49.515625 64.59375 \nL 19.828125 64.59375 \nL 19.828125 46.734375 \nQ 21.96875 47.46875 24.109375 47.828125 \nQ 26.265625 48.1875 28.421875 48.1875 \nQ 40.625 48.1875 47.75 41.5 \nQ 54.890625 34.8125 54.890625 23.390625 \nQ 54.890625 11.625 47.5625 5.09375 \nQ 40.234375 -1.421875 26.90625 -1.421875 \nQ 22.3125 -1.421875 17.546875 -0.640625 \nQ 12.796875 0.140625 7.71875 1.703125 \nL 7.71875 11.625 \nQ 12.109375 9.234375 16.796875 8.0625 \nQ 21.484375 6.890625 26.703125 6.890625 \nQ 35.15625 6.890625 40.078125 11.328125 \nQ 45.015625 15.765625 45.015625 23.390625 \nQ 45.015625 31 40.078125 35.4375 \nQ 35.15625 39.890625 26.703125 39.890625 \nQ 22.75 39.890625 18.8125 39.015625 \nQ 14.890625 38.140625 10.796875 36.28125 \nz\n\" id=\"DejaVuSans-53\"/>\n      </defs>\n      <g transform=\"translate(357.000568 254.356562)scale(0.1 -0.1)\">\n       <use xlink:href=\"#DejaVuSans-53\"/>\n       <use x=\"63.623047\" xlink:href=\"#DejaVuSans-48\"/>\n      </g>\n     </g>\n    </g>\n    <g id=\"text_7\">\n     <!-- Epoch -->\n     <defs>\n      <path d=\"M 9.8125 72.90625 \nL 55.90625 72.90625 \nL 55.90625 64.59375 \nL 19.671875 64.59375 \nL 19.671875 43.015625 \nL 54.390625 43.015625 \nL 54.390625 34.71875 \nL 19.671875 34.71875 \nL 19.671875 8.296875 \nL 56.78125 8.296875 \nL 56.78125 0 \nL 9.8125 0 \nz\n\" id=\"DejaVuSans-69\"/>\n      <path d=\"M 18.109375 8.203125 \nL 18.109375 -20.796875 \nL 9.078125 -20.796875 \nL 9.078125 54.6875 \nL 18.109375 54.6875 \nL 18.109375 46.390625 \nQ 20.953125 51.265625 25.265625 53.625 \nQ 29.59375 56 35.59375 56 \nQ 45.5625 56 51.78125 48.09375 \nQ 58.015625 40.1875 58.015625 27.296875 \nQ 58.015625 14.40625 51.78125 6.484375 \nQ 45.5625 -1.421875 35.59375 -1.421875 \nQ 29.59375 -1.421875 25.265625 0.953125 \nQ 20.953125 3.328125 18.109375 8.203125 \nz\nM 48.6875 27.296875 \nQ 48.6875 37.203125 44.609375 42.84375 \nQ 40.53125 48.484375 33.40625 48.484375 \nQ 26.265625 48.484375 22.1875 42.84375 \nQ 18.109375 37.203125 18.109375 27.296875 \nQ 18.109375 17.390625 22.1875 11.75 \nQ 26.265625 6.109375 33.40625 6.109375 \nQ 40.53125 6.109375 44.609375 11.75 \nQ 48.6875 17.390625 48.6875 27.296875 \nz\n\" id=\"DejaVuSans-112\"/>\n      <path d=\"M 30.609375 48.390625 \nQ 23.390625 48.390625 19.1875 42.75 \nQ 14.984375 37.109375 14.984375 27.296875 \nQ 14.984375 17.484375 19.15625 11.84375 \nQ 23.34375 6.203125 30.609375 6.203125 \nQ 37.796875 6.203125 41.984375 11.859375 \nQ 46.1875 17.53125 46.1875 27.296875 \nQ 46.1875 37.015625 41.984375 42.703125 \nQ 37.796875 48.390625 30.609375 48.390625 \nz\nM 30.609375 56 \nQ 42.328125 56 49.015625 48.375 \nQ 55.71875 40.765625 55.71875 27.296875 \nQ 55.71875 13.875 49.015625 6.21875 \nQ 42.328125 -1.421875 30.609375 -1.421875 \nQ 18.84375 -1.421875 12.171875 6.21875 \nQ 5.515625 13.875 5.515625 27.296875 \nQ 5.515625 40.765625 12.171875 48.375 \nQ 18.84375 56 30.609375 56 \nz\n\" id=\"DejaVuSans-111\"/>\n      <path d=\"M 48.78125 52.59375 \nL 48.78125 44.1875 \nQ 44.96875 46.296875 41.140625 47.34375 \nQ 37.3125 48.390625 33.40625 48.390625 \nQ 24.65625 48.390625 19.8125 42.84375 \nQ 14.984375 37.3125 14.984375 27.296875 \nQ 14.984375 17.28125 19.8125 11.734375 \nQ 24.65625 6.203125 33.40625 6.203125 \nQ 37.3125 6.203125 41.140625 7.25 \nQ 44.96875 8.296875 48.78125 10.40625 \nL 48.78125 2.09375 \nQ 45.015625 0.34375 40.984375 -0.53125 \nQ 36.96875 -1.421875 32.421875 -1.421875 \nQ 20.0625 -1.421875 12.78125 6.34375 \nQ 5.515625 14.109375 5.515625 27.296875 \nQ 5.515625 40.671875 12.859375 48.328125 \nQ 20.21875 56 33.015625 56 \nQ 37.15625 56 41.109375 55.140625 \nQ 45.0625 54.296875 48.78125 52.59375 \nz\n\" id=\"DejaVuSans-99\"/>\n      <path d=\"M 54.890625 33.015625 \nL 54.890625 0 \nL 45.90625 0 \nL 45.90625 32.71875 \nQ 45.90625 40.484375 42.875 44.328125 \nQ 39.84375 48.1875 33.796875 48.1875 \nQ 26.515625 48.1875 22.3125 43.546875 \nQ 18.109375 38.921875 18.109375 30.90625 \nL 18.109375 0 \nL 9.078125 0 \nL 9.078125 75.984375 \nL 18.109375 75.984375 \nL 18.109375 46.1875 \nQ 21.34375 51.125 25.703125 53.5625 \nQ 30.078125 56 35.796875 56 \nQ 45.21875 56 50.046875 50.171875 \nQ 54.890625 44.34375 54.890625 33.015625 \nz\n\" id=\"DejaVuSans-104\"/>\n     </defs>\n     <g transform=\"translate(195.870313 268.034687)scale(0.1 -0.1)\">\n      <use xlink:href=\"#DejaVuSans-69\"/>\n      <use x=\"63.183594\" xlink:href=\"#DejaVuSans-112\"/>\n      <use x=\"126.660156\" xlink:href=\"#DejaVuSans-111\"/>\n      <use x=\"187.841797\" xlink:href=\"#DejaVuSans-99\"/>\n      <use x=\"242.822266\" xlink:href=\"#DejaVuSans-104\"/>\n     </g>\n    </g>\n   </g>\n   <g id=\"matplotlib.axis_2\">\n    <g id=\"ytick_1\">\n     <g id=\"line2d_7\">\n      <defs>\n       <path d=\"M 0 0 \nL -3.5 0 \n\" id=\"m6baa079b6c\" style=\"stroke:#000000;stroke-width:0.8;\"/>\n      </defs>\n      <g>\n       <use style=\"stroke:#000000;stroke-width:0.8;\" x=\"43.78125\" xlink:href=\"#m6baa079b6c\" y=\"217.605793\"/>\n      </g>\n     </g>\n     <g id=\"text_8\">\n      <!-- 0.3 -->\n      <defs>\n       <path d=\"M 10.6875 12.40625 \nL 21 12.40625 \nL 21 0 \nL 10.6875 0 \nz\n\" id=\"DejaVuSans-46\"/>\n      </defs>\n      <g transform=\"translate(20.878125 221.405012)scale(0.1 -0.1)\">\n       <use xlink:href=\"#DejaVuSans-48\"/>\n       <use x=\"63.623047\" xlink:href=\"#DejaVuSans-46\"/>\n       <use x=\"95.410156\" xlink:href=\"#DejaVuSans-51\"/>\n      </g>\n     </g>\n    </g>\n    <g id=\"ytick_2\">\n     <g id=\"line2d_8\">\n      <g>\n       <use style=\"stroke:#000000;stroke-width:0.8;\" x=\"43.78125\" xlink:href=\"#m6baa079b6c\" y=\"186.387737\"/>\n      </g>\n     </g>\n     <g id=\"text_9\">\n      <!-- 0.4 -->\n      <g transform=\"translate(20.878125 190.186956)scale(0.1 -0.1)\">\n       <use xlink:href=\"#DejaVuSans-48\"/>\n       <use x=\"63.623047\" xlink:href=\"#DejaVuSans-46\"/>\n       <use x=\"95.410156\" xlink:href=\"#DejaVuSans-52\"/>\n      </g>\n     </g>\n    </g>\n    <g id=\"ytick_3\">\n     <g id=\"line2d_9\">\n      <g>\n       <use style=\"stroke:#000000;stroke-width:0.8;\" x=\"43.78125\" xlink:href=\"#m6baa079b6c\" y=\"155.169682\"/>\n      </g>\n     </g>\n     <g id=\"text_10\">\n      <!-- 0.5 -->\n      <g transform=\"translate(20.878125 158.968901)scale(0.1 -0.1)\">\n       <use xlink:href=\"#DejaVuSans-48\"/>\n       <use x=\"63.623047\" xlink:href=\"#DejaVuSans-46\"/>\n       <use x=\"95.410156\" xlink:href=\"#DejaVuSans-53\"/>\n      </g>\n     </g>\n    </g>\n    <g id=\"ytick_4\">\n     <g id=\"line2d_10\">\n      <g>\n       <use style=\"stroke:#000000;stroke-width:0.8;\" x=\"43.78125\" xlink:href=\"#m6baa079b6c\" y=\"123.951626\"/>\n      </g>\n     </g>\n     <g id=\"text_11\">\n      <!-- 0.6 -->\n      <defs>\n       <path d=\"M 33.015625 40.375 \nQ 26.375 40.375 22.484375 35.828125 \nQ 18.609375 31.296875 18.609375 23.390625 \nQ 18.609375 15.53125 22.484375 10.953125 \nQ 26.375 6.390625 33.015625 6.390625 \nQ 39.65625 6.390625 43.53125 10.953125 \nQ 47.40625 15.53125 47.40625 23.390625 \nQ 47.40625 31.296875 43.53125 35.828125 \nQ 39.65625 40.375 33.015625 40.375 \nz\nM 52.59375 71.296875 \nL 52.59375 62.3125 \nQ 48.875 64.0625 45.09375 64.984375 \nQ 41.3125 65.921875 37.59375 65.921875 \nQ 27.828125 65.921875 22.671875 59.328125 \nQ 17.53125 52.734375 16.796875 39.40625 \nQ 19.671875 43.65625 24.015625 45.921875 \nQ 28.375 48.1875 33.59375 48.1875 \nQ 44.578125 48.1875 50.953125 41.515625 \nQ 57.328125 34.859375 57.328125 23.390625 \nQ 57.328125 12.15625 50.6875 5.359375 \nQ 44.046875 -1.421875 33.015625 -1.421875 \nQ 20.359375 -1.421875 13.671875 8.265625 \nQ 6.984375 17.96875 6.984375 36.375 \nQ 6.984375 53.65625 15.1875 63.9375 \nQ 23.390625 74.21875 37.203125 74.21875 \nQ 40.921875 74.21875 44.703125 73.484375 \nQ 48.484375 72.75 52.59375 71.296875 \nz\n\" id=\"DejaVuSans-54\"/>\n      </defs>\n      <g transform=\"translate(20.878125 127.750845)scale(0.1 -0.1)\">\n       <use xlink:href=\"#DejaVuSans-48\"/>\n       <use x=\"63.623047\" xlink:href=\"#DejaVuSans-46\"/>\n       <use x=\"95.410156\" xlink:href=\"#DejaVuSans-54\"/>\n      </g>\n     </g>\n    </g>\n    <g id=\"ytick_5\">\n     <g id=\"line2d_11\">\n      <g>\n       <use style=\"stroke:#000000;stroke-width:0.8;\" x=\"43.78125\" xlink:href=\"#m6baa079b6c\" y=\"92.733571\"/>\n      </g>\n     </g>\n     <g id=\"text_12\">\n      <!-- 0.7 -->\n      <defs>\n       <path d=\"M 8.203125 72.90625 \nL 55.078125 72.90625 \nL 55.078125 68.703125 \nL 28.609375 0 \nL 18.3125 0 \nL 43.21875 64.59375 \nL 8.203125 64.59375 \nz\n\" id=\"DejaVuSans-55\"/>\n      </defs>\n      <g transform=\"translate(20.878125 96.53279)scale(0.1 -0.1)\">\n       <use xlink:href=\"#DejaVuSans-48\"/>\n       <use x=\"63.623047\" xlink:href=\"#DejaVuSans-46\"/>\n       <use x=\"95.410156\" xlink:href=\"#DejaVuSans-55\"/>\n      </g>\n     </g>\n    </g>\n    <g id=\"ytick_6\">\n     <g id=\"line2d_12\">\n      <g>\n       <use style=\"stroke:#000000;stroke-width:0.8;\" x=\"43.78125\" xlink:href=\"#m6baa079b6c\" y=\"61.515515\"/>\n      </g>\n     </g>\n     <g id=\"text_13\">\n      <!-- 0.8 -->\n      <defs>\n       <path d=\"M 31.78125 34.625 \nQ 24.75 34.625 20.71875 30.859375 \nQ 16.703125 27.09375 16.703125 20.515625 \nQ 16.703125 13.921875 20.71875 10.15625 \nQ 24.75 6.390625 31.78125 6.390625 \nQ 38.8125 6.390625 42.859375 10.171875 \nQ 46.921875 13.96875 46.921875 20.515625 \nQ 46.921875 27.09375 42.890625 30.859375 \nQ 38.875 34.625 31.78125 34.625 \nz\nM 21.921875 38.8125 \nQ 15.578125 40.375 12.03125 44.71875 \nQ 8.5 49.078125 8.5 55.328125 \nQ 8.5 64.0625 14.71875 69.140625 \nQ 20.953125 74.21875 31.78125 74.21875 \nQ 42.671875 74.21875 48.875 69.140625 \nQ 55.078125 64.0625 55.078125 55.328125 \nQ 55.078125 49.078125 51.53125 44.71875 \nQ 48 40.375 41.703125 38.8125 \nQ 48.828125 37.15625 52.796875 32.3125 \nQ 56.78125 27.484375 56.78125 20.515625 \nQ 56.78125 9.90625 50.3125 4.234375 \nQ 43.84375 -1.421875 31.78125 -1.421875 \nQ 19.734375 -1.421875 13.25 4.234375 \nQ 6.78125 9.90625 6.78125 20.515625 \nQ 6.78125 27.484375 10.78125 32.3125 \nQ 14.796875 37.15625 21.921875 38.8125 \nz\nM 18.3125 54.390625 \nQ 18.3125 48.734375 21.84375 45.5625 \nQ 25.390625 42.390625 31.78125 42.390625 \nQ 38.140625 42.390625 41.71875 45.5625 \nQ 45.3125 48.734375 45.3125 54.390625 \nQ 45.3125 60.0625 41.71875 63.234375 \nQ 38.140625 66.40625 31.78125 66.40625 \nQ 25.390625 66.40625 21.84375 63.234375 \nQ 18.3125 60.0625 18.3125 54.390625 \nz\n\" id=\"DejaVuSans-56\"/>\n      </defs>\n      <g transform=\"translate(20.878125 65.314734)scale(0.1 -0.1)\">\n       <use xlink:href=\"#DejaVuSans-48\"/>\n       <use x=\"63.623047\" xlink:href=\"#DejaVuSans-46\"/>\n       <use x=\"95.410156\" xlink:href=\"#DejaVuSans-56\"/>\n      </g>\n     </g>\n    </g>\n    <g id=\"ytick_7\">\n     <g id=\"line2d_13\">\n      <g>\n       <use style=\"stroke:#000000;stroke-width:0.8;\" x=\"43.78125\" xlink:href=\"#m6baa079b6c\" y=\"30.29746\"/>\n      </g>\n     </g>\n     <g id=\"text_14\">\n      <!-- 0.9 -->\n      <defs>\n       <path d=\"M 10.984375 1.515625 \nL 10.984375 10.5 \nQ 14.703125 8.734375 18.5 7.8125 \nQ 22.3125 6.890625 25.984375 6.890625 \nQ 35.75 6.890625 40.890625 13.453125 \nQ 46.046875 20.015625 46.78125 33.40625 \nQ 43.953125 29.203125 39.59375 26.953125 \nQ 35.25 24.703125 29.984375 24.703125 \nQ 19.046875 24.703125 12.671875 31.3125 \nQ 6.296875 37.9375 6.296875 49.421875 \nQ 6.296875 60.640625 12.9375 67.421875 \nQ 19.578125 74.21875 30.609375 74.21875 \nQ 43.265625 74.21875 49.921875 64.515625 \nQ 56.59375 54.828125 56.59375 36.375 \nQ 56.59375 19.140625 48.40625 8.859375 \nQ 40.234375 -1.421875 26.421875 -1.421875 \nQ 22.703125 -1.421875 18.890625 -0.6875 \nQ 15.09375 0.046875 10.984375 1.515625 \nz\nM 30.609375 32.421875 \nQ 37.25 32.421875 41.125 36.953125 \nQ 45.015625 41.5 45.015625 49.421875 \nQ 45.015625 57.28125 41.125 61.84375 \nQ 37.25 66.40625 30.609375 66.40625 \nQ 23.96875 66.40625 20.09375 61.84375 \nQ 16.21875 57.28125 16.21875 49.421875 \nQ 16.21875 41.5 20.09375 36.953125 \nQ 23.96875 32.421875 30.609375 32.421875 \nz\n\" id=\"DejaVuSans-57\"/>\n      </defs>\n      <g transform=\"translate(20.878125 34.096679)scale(0.1 -0.1)\">\n       <use xlink:href=\"#DejaVuSans-48\"/>\n       <use x=\"63.623047\" xlink:href=\"#DejaVuSans-46\"/>\n       <use x=\"95.410156\" xlink:href=\"#DejaVuSans-57\"/>\n      </g>\n     </g>\n    </g>\n    <g id=\"text_15\">\n     <!-- Accuracy -->\n     <defs>\n      <path d=\"M 34.1875 63.1875 \nL 20.796875 26.90625 \nL 47.609375 26.90625 \nz\nM 28.609375 72.90625 \nL 39.796875 72.90625 \nL 67.578125 0 \nL 57.328125 0 \nL 50.6875 18.703125 \nL 17.828125 18.703125 \nL 11.1875 0 \nL 0.78125 0 \nz\n\" id=\"DejaVuSans-65\"/>\n      <path d=\"M 8.5 21.578125 \nL 8.5 54.6875 \nL 17.484375 54.6875 \nL 17.484375 21.921875 \nQ 17.484375 14.15625 20.5 10.265625 \nQ 23.53125 6.390625 29.59375 6.390625 \nQ 36.859375 6.390625 41.078125 11.03125 \nQ 45.3125 15.671875 45.3125 23.6875 \nL 45.3125 54.6875 \nL 54.296875 54.6875 \nL 54.296875 0 \nL 45.3125 0 \nL 45.3125 8.40625 \nQ 42.046875 3.421875 37.71875 1 \nQ 33.40625 -1.421875 27.6875 -1.421875 \nQ 18.265625 -1.421875 13.375 4.4375 \nQ 8.5 10.296875 8.5 21.578125 \nz\nM 31.109375 56 \nz\n\" id=\"DejaVuSans-117\"/>\n      <path d=\"M 41.109375 46.296875 \nQ 39.59375 47.171875 37.8125 47.578125 \nQ 36.03125 48 33.890625 48 \nQ 26.265625 48 22.1875 43.046875 \nQ 18.109375 38.09375 18.109375 28.8125 \nL 18.109375 0 \nL 9.078125 0 \nL 9.078125 54.6875 \nL 18.109375 54.6875 \nL 18.109375 46.1875 \nQ 20.953125 51.171875 25.484375 53.578125 \nQ 30.03125 56 36.53125 56 \nQ 37.453125 56 38.578125 55.875 \nQ 39.703125 55.765625 41.0625 55.515625 \nz\n\" id=\"DejaVuSans-114\"/>\n      <path d=\"M 34.28125 27.484375 \nQ 23.390625 27.484375 19.1875 25 \nQ 14.984375 22.515625 14.984375 16.5 \nQ 14.984375 11.71875 18.140625 8.90625 \nQ 21.296875 6.109375 26.703125 6.109375 \nQ 34.1875 6.109375 38.703125 11.40625 \nQ 43.21875 16.703125 43.21875 25.484375 \nL 43.21875 27.484375 \nz\nM 52.203125 31.203125 \nL 52.203125 0 \nL 43.21875 0 \nL 43.21875 8.296875 \nQ 40.140625 3.328125 35.546875 0.953125 \nQ 30.953125 -1.421875 24.3125 -1.421875 \nQ 15.921875 -1.421875 10.953125 3.296875 \nQ 6 8.015625 6 15.921875 \nQ 6 25.140625 12.171875 29.828125 \nQ 18.359375 34.515625 30.609375 34.515625 \nL 43.21875 34.515625 \nL 43.21875 35.40625 \nQ 43.21875 41.609375 39.140625 45 \nQ 35.0625 48.390625 27.6875 48.390625 \nQ 23 48.390625 18.546875 47.265625 \nQ 14.109375 46.140625 10.015625 43.890625 \nL 10.015625 52.203125 \nQ 14.9375 54.109375 19.578125 55.046875 \nQ 24.21875 56 28.609375 56 \nQ 40.484375 56 46.34375 49.84375 \nQ 52.203125 43.703125 52.203125 31.203125 \nz\n\" id=\"DejaVuSans-97\"/>\n      <path d=\"M 32.171875 -5.078125 \nQ 28.375 -14.84375 24.75 -17.8125 \nQ 21.140625 -20.796875 15.09375 -20.796875 \nL 7.90625 -20.796875 \nL 7.90625 -13.28125 \nL 13.1875 -13.28125 \nQ 16.890625 -13.28125 18.9375 -11.515625 \nQ 21 -9.765625 23.484375 -3.21875 \nL 25.09375 0.875 \nL 2.984375 54.6875 \nL 12.5 54.6875 \nL 29.59375 11.921875 \nL 46.6875 54.6875 \nL 56.203125 54.6875 \nz\n\" id=\"DejaVuSans-121\"/>\n     </defs>\n     <g transform=\"translate(14.798438 153.952969)rotate(-90)scale(0.1 -0.1)\">\n      <use xlink:href=\"#DejaVuSans-65\"/>\n      <use x=\"68.392578\" xlink:href=\"#DejaVuSans-99\"/>\n      <use x=\"123.373047\" xlink:href=\"#DejaVuSans-99\"/>\n      <use x=\"178.353516\" xlink:href=\"#DejaVuSans-117\"/>\n      <use x=\"241.732422\" xlink:href=\"#DejaVuSans-114\"/>\n      <use x=\"282.845703\" xlink:href=\"#DejaVuSans-97\"/>\n      <use x=\"344.125\" xlink:href=\"#DejaVuSans-99\"/>\n      <use x=\"399.105469\" xlink:href=\"#DejaVuSans-121\"/>\n     </g>\n    </g>\n   </g>\n   <g id=\"line2d_14\">\n    <path clip-path=\"url(#pc34024ea5d)\" d=\"M 58.999432 229.874489 \nL 65.210935 138.806218 \nL 71.422437 134.394066 \nL 77.63394 127.047417 \nL 83.845443 121.501009 \nL 90.056946 116.037849 \nL 96.268449 108.347802 \nL 102.479951 100.600521 \nL 108.691454 93.352729 \nL 114.902957 86.021689 \nL 121.11446 80.631371 \nL 127.325962 75.386738 \nL 133.537465 71.031819 \nL 139.748968 67.218014 \nL 145.960471 64.481231 \nL 152.171974 61.760057 \nL 158.383476 59.449921 \nL 164.594979 57.280266 \nL 170.806482 55.193859 \nL 177.017985 53.596535 \nL 183.229487 52.160505 \nL 189.44099 50.890971 \nL 195.652493 49.428925 \nL 201.863996 48.346699 \nL 208.075499 47.3113 \nL 214.287001 46.208262 \nL 220.498504 45.188472 \nL 226.710007 44.329976 \nL 232.92151 43.409043 \nL 239.133013 42.60778 \nL 245.344515 41.941795 \nL 251.556018 41.281012 \nL 257.767521 40.552591 \nL 263.979024 39.933433 \nL 270.190526 39.366305 \nL 276.402029 38.80438 \nL 282.613532 38.294485 \nL 288.825035 37.831417 \nL 295.036538 37.253883 \nL 301.24804 36.770003 \nL 307.459543 36.416199 \nL 313.671046 36.088409 \nL 319.882549 35.58892 \nL 326.094051 35.193492 \nL 332.305554 34.902123 \nL 338.517057 34.558725 \nL 344.72856 34.262153 \nL 350.940063 33.934363 \nL 357.151565 33.622183 \nL 363.363068 33.346423 \n\" style=\"fill:none;stroke:#1f77b4;stroke-linecap:square;stroke-width:1.5;\"/>\n    <defs>\n     <path d=\"M 0 3 \nC 0.795609 3 1.55874 2.683901 2.12132 2.12132 \nC 2.683901 1.55874 3 0.795609 3 0 \nC 3 -0.795609 2.683901 -1.55874 2.12132 -2.12132 \nC 1.55874 -2.683901 0.795609 -3 0 -3 \nC -0.795609 -3 -1.55874 -2.683901 -2.12132 -2.12132 \nC -2.683901 -1.55874 -3 -0.795609 -3 0 \nC -3 0.795609 -2.683901 1.55874 -2.12132 2.12132 \nC -1.55874 2.683901 -0.795609 3 0 3 \nz\n\" id=\"m4805d3244c\" style=\"stroke:#1f77b4;\"/>\n    </defs>\n    <g clip-path=\"url(#pc34024ea5d)\">\n     <use style=\"fill:#1f77b4;stroke:#1f77b4;\" x=\"58.999432\" xlink:href=\"#m4805d3244c\" y=\"229.874489\"/>\n     <use style=\"fill:#1f77b4;stroke:#1f77b4;\" x=\"65.210935\" xlink:href=\"#m4805d3244c\" y=\"138.806218\"/>\n     <use style=\"fill:#1f77b4;stroke:#1f77b4;\" x=\"71.422437\" xlink:href=\"#m4805d3244c\" y=\"134.394066\"/>\n     <use style=\"fill:#1f77b4;stroke:#1f77b4;\" x=\"77.63394\" xlink:href=\"#m4805d3244c\" y=\"127.047417\"/>\n     <use style=\"fill:#1f77b4;stroke:#1f77b4;\" x=\"83.845443\" xlink:href=\"#m4805d3244c\" y=\"121.501009\"/>\n     <use style=\"fill:#1f77b4;stroke:#1f77b4;\" x=\"90.056946\" xlink:href=\"#m4805d3244c\" y=\"116.037849\"/>\n     <use style=\"fill:#1f77b4;stroke:#1f77b4;\" x=\"96.268449\" xlink:href=\"#m4805d3244c\" y=\"108.347802\"/>\n     <use style=\"fill:#1f77b4;stroke:#1f77b4;\" x=\"102.479951\" xlink:href=\"#m4805d3244c\" y=\"100.600521\"/>\n     <use style=\"fill:#1f77b4;stroke:#1f77b4;\" x=\"108.691454\" xlink:href=\"#m4805d3244c\" y=\"93.352729\"/>\n     <use style=\"fill:#1f77b4;stroke:#1f77b4;\" x=\"114.902957\" xlink:href=\"#m4805d3244c\" y=\"86.021689\"/>\n     <use style=\"fill:#1f77b4;stroke:#1f77b4;\" x=\"121.11446\" xlink:href=\"#m4805d3244c\" y=\"80.631371\"/>\n     <use style=\"fill:#1f77b4;stroke:#1f77b4;\" x=\"127.325962\" xlink:href=\"#m4805d3244c\" y=\"75.386738\"/>\n     <use style=\"fill:#1f77b4;stroke:#1f77b4;\" x=\"133.537465\" xlink:href=\"#m4805d3244c\" y=\"71.031819\"/>\n     <use style=\"fill:#1f77b4;stroke:#1f77b4;\" x=\"139.748968\" xlink:href=\"#m4805d3244c\" y=\"67.218014\"/>\n     <use style=\"fill:#1f77b4;stroke:#1f77b4;\" x=\"145.960471\" xlink:href=\"#m4805d3244c\" y=\"64.481231\"/>\n     <use style=\"fill:#1f77b4;stroke:#1f77b4;\" x=\"152.171974\" xlink:href=\"#m4805d3244c\" y=\"61.760057\"/>\n     <use style=\"fill:#1f77b4;stroke:#1f77b4;\" x=\"158.383476\" xlink:href=\"#m4805d3244c\" y=\"59.449921\"/>\n     <use style=\"fill:#1f77b4;stroke:#1f77b4;\" x=\"164.594979\" xlink:href=\"#m4805d3244c\" y=\"57.280266\"/>\n     <use style=\"fill:#1f77b4;stroke:#1f77b4;\" x=\"170.806482\" xlink:href=\"#m4805d3244c\" y=\"55.193859\"/>\n     <use style=\"fill:#1f77b4;stroke:#1f77b4;\" x=\"177.017985\" xlink:href=\"#m4805d3244c\" y=\"53.596535\"/>\n     <use style=\"fill:#1f77b4;stroke:#1f77b4;\" x=\"183.229487\" xlink:href=\"#m4805d3244c\" y=\"52.160505\"/>\n     <use style=\"fill:#1f77b4;stroke:#1f77b4;\" x=\"189.44099\" xlink:href=\"#m4805d3244c\" y=\"50.890971\"/>\n     <use style=\"fill:#1f77b4;stroke:#1f77b4;\" x=\"195.652493\" xlink:href=\"#m4805d3244c\" y=\"49.428925\"/>\n     <use style=\"fill:#1f77b4;stroke:#1f77b4;\" x=\"201.863996\" xlink:href=\"#m4805d3244c\" y=\"48.346699\"/>\n     <use style=\"fill:#1f77b4;stroke:#1f77b4;\" x=\"208.075499\" xlink:href=\"#m4805d3244c\" y=\"47.3113\"/>\n     <use style=\"fill:#1f77b4;stroke:#1f77b4;\" x=\"214.287001\" xlink:href=\"#m4805d3244c\" y=\"46.208262\"/>\n     <use style=\"fill:#1f77b4;stroke:#1f77b4;\" x=\"220.498504\" xlink:href=\"#m4805d3244c\" y=\"45.188472\"/>\n     <use style=\"fill:#1f77b4;stroke:#1f77b4;\" x=\"226.710007\" xlink:href=\"#m4805d3244c\" y=\"44.329976\"/>\n     <use style=\"fill:#1f77b4;stroke:#1f77b4;\" x=\"232.92151\" xlink:href=\"#m4805d3244c\" y=\"43.409043\"/>\n     <use style=\"fill:#1f77b4;stroke:#1f77b4;\" x=\"239.133013\" xlink:href=\"#m4805d3244c\" y=\"42.60778\"/>\n     <use style=\"fill:#1f77b4;stroke:#1f77b4;\" x=\"245.344515\" xlink:href=\"#m4805d3244c\" y=\"41.941795\"/>\n     <use style=\"fill:#1f77b4;stroke:#1f77b4;\" x=\"251.556018\" xlink:href=\"#m4805d3244c\" y=\"41.281012\"/>\n     <use style=\"fill:#1f77b4;stroke:#1f77b4;\" x=\"257.767521\" xlink:href=\"#m4805d3244c\" y=\"40.552591\"/>\n     <use style=\"fill:#1f77b4;stroke:#1f77b4;\" x=\"263.979024\" xlink:href=\"#m4805d3244c\" y=\"39.933433\"/>\n     <use style=\"fill:#1f77b4;stroke:#1f77b4;\" x=\"270.190526\" xlink:href=\"#m4805d3244c\" y=\"39.366305\"/>\n     <use style=\"fill:#1f77b4;stroke:#1f77b4;\" x=\"276.402029\" xlink:href=\"#m4805d3244c\" y=\"38.80438\"/>\n     <use style=\"fill:#1f77b4;stroke:#1f77b4;\" x=\"282.613532\" xlink:href=\"#m4805d3244c\" y=\"38.294485\"/>\n     <use style=\"fill:#1f77b4;stroke:#1f77b4;\" x=\"288.825035\" xlink:href=\"#m4805d3244c\" y=\"37.831417\"/>\n     <use style=\"fill:#1f77b4;stroke:#1f77b4;\" x=\"295.036538\" xlink:href=\"#m4805d3244c\" y=\"37.253883\"/>\n     <use style=\"fill:#1f77b4;stroke:#1f77b4;\" x=\"301.24804\" xlink:href=\"#m4805d3244c\" y=\"36.770003\"/>\n     <use style=\"fill:#1f77b4;stroke:#1f77b4;\" x=\"307.459543\" xlink:href=\"#m4805d3244c\" y=\"36.416199\"/>\n     <use style=\"fill:#1f77b4;stroke:#1f77b4;\" x=\"313.671046\" xlink:href=\"#m4805d3244c\" y=\"36.088409\"/>\n     <use style=\"fill:#1f77b4;stroke:#1f77b4;\" x=\"319.882549\" xlink:href=\"#m4805d3244c\" y=\"35.58892\"/>\n     <use style=\"fill:#1f77b4;stroke:#1f77b4;\" x=\"326.094051\" xlink:href=\"#m4805d3244c\" y=\"35.193492\"/>\n     <use style=\"fill:#1f77b4;stroke:#1f77b4;\" x=\"332.305554\" xlink:href=\"#m4805d3244c\" y=\"34.902123\"/>\n     <use style=\"fill:#1f77b4;stroke:#1f77b4;\" x=\"338.517057\" xlink:href=\"#m4805d3244c\" y=\"34.558725\"/>\n     <use style=\"fill:#1f77b4;stroke:#1f77b4;\" x=\"344.72856\" xlink:href=\"#m4805d3244c\" y=\"34.262153\"/>\n     <use style=\"fill:#1f77b4;stroke:#1f77b4;\" x=\"350.940063\" xlink:href=\"#m4805d3244c\" y=\"33.934363\"/>\n     <use style=\"fill:#1f77b4;stroke:#1f77b4;\" x=\"357.151565\" xlink:href=\"#m4805d3244c\" y=\"33.622183\"/>\n     <use style=\"fill:#1f77b4;stroke:#1f77b4;\" x=\"363.363068\" xlink:href=\"#m4805d3244c\" y=\"33.346423\"/>\n    </g>\n   </g>\n   <g id=\"line2d_15\">\n    <path clip-path=\"url(#pc34024ea5d)\" d=\"M 58.999432 229.000383 \nL 65.210935 135.065254 \nL 71.422437 131.131779 \nL 77.63394 124.232589 \nL 83.845443 118.457249 \nL 90.056946 112.900435 \nL 96.268449 104.221815 \nL 102.479951 97.385061 \nL 108.691454 89.986382 \nL 114.902957 83.055974 \nL 121.11446 76.843581 \nL 127.325962 71.87991 \nL 133.537465 68.164961 \nL 139.748968 63.981742 \nL 145.960471 61.390643 \nL 152.171974 59.049289 \nL 158.383476 57.020115 \nL 164.594979 54.741197 \nL 170.806482 53.055422 \nL 177.017985 50.932595 \nL 183.229487 49.40291 \nL 189.44099 48.185406 \nL 195.652493 47.123992 \nL 201.863996 45.687961 \nL 208.075499 45.0636 \nL 214.287001 43.721224 \nL 220.498504 42.597374 \nL 226.710007 41.69205 \nL 232.92151 40.661854 \nL 239.133013 40.068711 \nL 245.344515 39.506786 \nL 251.556018 39.13217 \nL 257.767521 38.663899 \nL 263.979024 38.039538 \nL 270.190526 37.633703 \nL 276.402029 37.04056 \nL 282.613532 36.509853 \nL 288.825035 36.166454 \nL 295.036538 35.573311 \nL 301.24804 35.229913 \nL 307.459543 34.63677 \nL 313.671046 34.480679 \nL 319.882549 34.137281 \nL 326.094051 33.762664 \nL 332.305554 33.388047 \nL 338.517057 33.013431 \nL 344.72856 32.670032 \nL 350.940063 32.607596 \nL 357.151565 32.38907 \nL 363.363068 32.201761 \n\" style=\"fill:none;stroke:#ff7f0e;stroke-linecap:square;stroke-width:1.5;\"/>\n    <defs>\n     <path d=\"M 0 3 \nC 0.795609 3 1.55874 2.683901 2.12132 2.12132 \nC 2.683901 1.55874 3 0.795609 3 0 \nC 3 -0.795609 2.683901 -1.55874 2.12132 -2.12132 \nC 1.55874 -2.683901 0.795609 -3 0 -3 \nC -0.795609 -3 -1.55874 -2.683901 -2.12132 -2.12132 \nC -2.683901 -1.55874 -3 -0.795609 -3 0 \nC -3 0.795609 -2.683901 1.55874 -2.12132 2.12132 \nC -1.55874 2.683901 -0.795609 3 0 3 \nz\n\" id=\"me5dde05754\" style=\"stroke:#ff7f0e;\"/>\n    </defs>\n    <g clip-path=\"url(#pc34024ea5d)\">\n     <use style=\"fill:#ff7f0e;stroke:#ff7f0e;\" x=\"58.999432\" xlink:href=\"#me5dde05754\" y=\"229.000383\"/>\n     <use style=\"fill:#ff7f0e;stroke:#ff7f0e;\" x=\"65.210935\" xlink:href=\"#me5dde05754\" y=\"135.065254\"/>\n     <use style=\"fill:#ff7f0e;stroke:#ff7f0e;\" x=\"71.422437\" xlink:href=\"#me5dde05754\" y=\"131.131779\"/>\n     <use style=\"fill:#ff7f0e;stroke:#ff7f0e;\" x=\"77.63394\" xlink:href=\"#me5dde05754\" y=\"124.232589\"/>\n     <use style=\"fill:#ff7f0e;stroke:#ff7f0e;\" x=\"83.845443\" xlink:href=\"#me5dde05754\" y=\"118.457249\"/>\n     <use style=\"fill:#ff7f0e;stroke:#ff7f0e;\" x=\"90.056946\" xlink:href=\"#me5dde05754\" y=\"112.900435\"/>\n     <use style=\"fill:#ff7f0e;stroke:#ff7f0e;\" x=\"96.268449\" xlink:href=\"#me5dde05754\" y=\"104.221815\"/>\n     <use style=\"fill:#ff7f0e;stroke:#ff7f0e;\" x=\"102.479951\" xlink:href=\"#me5dde05754\" y=\"97.385061\"/>\n     <use style=\"fill:#ff7f0e;stroke:#ff7f0e;\" x=\"108.691454\" xlink:href=\"#me5dde05754\" y=\"89.986382\"/>\n     <use style=\"fill:#ff7f0e;stroke:#ff7f0e;\" x=\"114.902957\" xlink:href=\"#me5dde05754\" y=\"83.055974\"/>\n     <use style=\"fill:#ff7f0e;stroke:#ff7f0e;\" x=\"121.11446\" xlink:href=\"#me5dde05754\" y=\"76.843581\"/>\n     <use style=\"fill:#ff7f0e;stroke:#ff7f0e;\" x=\"127.325962\" xlink:href=\"#me5dde05754\" y=\"71.87991\"/>\n     <use style=\"fill:#ff7f0e;stroke:#ff7f0e;\" x=\"133.537465\" xlink:href=\"#me5dde05754\" y=\"68.164961\"/>\n     <use style=\"fill:#ff7f0e;stroke:#ff7f0e;\" x=\"139.748968\" xlink:href=\"#me5dde05754\" y=\"63.981742\"/>\n     <use style=\"fill:#ff7f0e;stroke:#ff7f0e;\" x=\"145.960471\" xlink:href=\"#me5dde05754\" y=\"61.390643\"/>\n     <use style=\"fill:#ff7f0e;stroke:#ff7f0e;\" x=\"152.171974\" xlink:href=\"#me5dde05754\" y=\"59.049289\"/>\n     <use style=\"fill:#ff7f0e;stroke:#ff7f0e;\" x=\"158.383476\" xlink:href=\"#me5dde05754\" y=\"57.020115\"/>\n     <use style=\"fill:#ff7f0e;stroke:#ff7f0e;\" x=\"164.594979\" xlink:href=\"#me5dde05754\" y=\"54.741197\"/>\n     <use style=\"fill:#ff7f0e;stroke:#ff7f0e;\" x=\"170.806482\" xlink:href=\"#me5dde05754\" y=\"53.055422\"/>\n     <use style=\"fill:#ff7f0e;stroke:#ff7f0e;\" x=\"177.017985\" xlink:href=\"#me5dde05754\" y=\"50.932595\"/>\n     <use style=\"fill:#ff7f0e;stroke:#ff7f0e;\" x=\"183.229487\" xlink:href=\"#me5dde05754\" y=\"49.40291\"/>\n     <use style=\"fill:#ff7f0e;stroke:#ff7f0e;\" x=\"189.44099\" xlink:href=\"#me5dde05754\" y=\"48.185406\"/>\n     <use style=\"fill:#ff7f0e;stroke:#ff7f0e;\" x=\"195.652493\" xlink:href=\"#me5dde05754\" y=\"47.123992\"/>\n     <use style=\"fill:#ff7f0e;stroke:#ff7f0e;\" x=\"201.863996\" xlink:href=\"#me5dde05754\" y=\"45.687961\"/>\n     <use style=\"fill:#ff7f0e;stroke:#ff7f0e;\" x=\"208.075499\" xlink:href=\"#me5dde05754\" y=\"45.0636\"/>\n     <use style=\"fill:#ff7f0e;stroke:#ff7f0e;\" x=\"214.287001\" xlink:href=\"#me5dde05754\" y=\"43.721224\"/>\n     <use style=\"fill:#ff7f0e;stroke:#ff7f0e;\" x=\"220.498504\" xlink:href=\"#me5dde05754\" y=\"42.597374\"/>\n     <use style=\"fill:#ff7f0e;stroke:#ff7f0e;\" x=\"226.710007\" xlink:href=\"#me5dde05754\" y=\"41.69205\"/>\n     <use style=\"fill:#ff7f0e;stroke:#ff7f0e;\" x=\"232.92151\" xlink:href=\"#me5dde05754\" y=\"40.661854\"/>\n     <use style=\"fill:#ff7f0e;stroke:#ff7f0e;\" x=\"239.133013\" xlink:href=\"#me5dde05754\" y=\"40.068711\"/>\n     <use style=\"fill:#ff7f0e;stroke:#ff7f0e;\" x=\"245.344515\" xlink:href=\"#me5dde05754\" y=\"39.506786\"/>\n     <use style=\"fill:#ff7f0e;stroke:#ff7f0e;\" x=\"251.556018\" xlink:href=\"#me5dde05754\" y=\"39.13217\"/>\n     <use style=\"fill:#ff7f0e;stroke:#ff7f0e;\" x=\"257.767521\" xlink:href=\"#me5dde05754\" y=\"38.663899\"/>\n     <use style=\"fill:#ff7f0e;stroke:#ff7f0e;\" x=\"263.979024\" xlink:href=\"#me5dde05754\" y=\"38.039538\"/>\n     <use style=\"fill:#ff7f0e;stroke:#ff7f0e;\" x=\"270.190526\" xlink:href=\"#me5dde05754\" y=\"37.633703\"/>\n     <use style=\"fill:#ff7f0e;stroke:#ff7f0e;\" x=\"276.402029\" xlink:href=\"#me5dde05754\" y=\"37.04056\"/>\n     <use style=\"fill:#ff7f0e;stroke:#ff7f0e;\" x=\"282.613532\" xlink:href=\"#me5dde05754\" y=\"36.509853\"/>\n     <use style=\"fill:#ff7f0e;stroke:#ff7f0e;\" x=\"288.825035\" xlink:href=\"#me5dde05754\" y=\"36.166454\"/>\n     <use style=\"fill:#ff7f0e;stroke:#ff7f0e;\" x=\"295.036538\" xlink:href=\"#me5dde05754\" y=\"35.573311\"/>\n     <use style=\"fill:#ff7f0e;stroke:#ff7f0e;\" x=\"301.24804\" xlink:href=\"#me5dde05754\" y=\"35.229913\"/>\n     <use style=\"fill:#ff7f0e;stroke:#ff7f0e;\" x=\"307.459543\" xlink:href=\"#me5dde05754\" y=\"34.63677\"/>\n     <use style=\"fill:#ff7f0e;stroke:#ff7f0e;\" x=\"313.671046\" xlink:href=\"#me5dde05754\" y=\"34.480679\"/>\n     <use style=\"fill:#ff7f0e;stroke:#ff7f0e;\" x=\"319.882549\" xlink:href=\"#me5dde05754\" y=\"34.137281\"/>\n     <use style=\"fill:#ff7f0e;stroke:#ff7f0e;\" x=\"326.094051\" xlink:href=\"#me5dde05754\" y=\"33.762664\"/>\n     <use style=\"fill:#ff7f0e;stroke:#ff7f0e;\" x=\"332.305554\" xlink:href=\"#me5dde05754\" y=\"33.388047\"/>\n     <use style=\"fill:#ff7f0e;stroke:#ff7f0e;\" x=\"338.517057\" xlink:href=\"#me5dde05754\" y=\"33.013431\"/>\n     <use style=\"fill:#ff7f0e;stroke:#ff7f0e;\" x=\"344.72856\" xlink:href=\"#me5dde05754\" y=\"32.670032\"/>\n     <use style=\"fill:#ff7f0e;stroke:#ff7f0e;\" x=\"350.940063\" xlink:href=\"#me5dde05754\" y=\"32.607596\"/>\n     <use style=\"fill:#ff7f0e;stroke:#ff7f0e;\" x=\"357.151565\" xlink:href=\"#me5dde05754\" y=\"32.38907\"/>\n     <use style=\"fill:#ff7f0e;stroke:#ff7f0e;\" x=\"363.363068\" xlink:href=\"#me5dde05754\" y=\"32.201761\"/>\n    </g>\n   </g>\n   <g id=\"patch_3\">\n    <path d=\"M 43.78125 239.758125 \nL 43.78125 22.318125 \n\" style=\"fill:none;stroke:#000000;stroke-linecap:square;stroke-linejoin:miter;stroke-width:0.8;\"/>\n   </g>\n   <g id=\"patch_4\">\n    <path d=\"M 378.58125 239.758125 \nL 378.58125 22.318125 \n\" style=\"fill:none;stroke:#000000;stroke-linecap:square;stroke-linejoin:miter;stroke-width:0.8;\"/>\n   </g>\n   <g id=\"patch_5\">\n    <path d=\"M 43.78125 239.758125 \nL 378.58125 239.758125 \n\" style=\"fill:none;stroke:#000000;stroke-linecap:square;stroke-linejoin:miter;stroke-width:0.8;\"/>\n   </g>\n   <g id=\"patch_6\">\n    <path d=\"M 43.78125 22.318125 \nL 378.58125 22.318125 \n\" style=\"fill:none;stroke:#000000;stroke-linecap:square;stroke-linejoin:miter;stroke-width:0.8;\"/>\n   </g>\n   <g id=\"text_16\">\n    <!-- SLP Accuracy for epoch=range(1, 51) -->\n    <defs>\n     <path d=\"M 53.515625 70.515625 \nL 53.515625 60.890625 \nQ 47.90625 63.578125 42.921875 64.890625 \nQ 37.9375 66.21875 33.296875 66.21875 \nQ 25.25 66.21875 20.875 63.09375 \nQ 16.5 59.96875 16.5 54.203125 \nQ 16.5 49.359375 19.40625 46.890625 \nQ 22.3125 44.4375 30.421875 42.921875 \nL 36.375 41.703125 \nQ 47.40625 39.59375 52.65625 34.296875 \nQ 57.90625 29 57.90625 20.125 \nQ 57.90625 9.515625 50.796875 4.046875 \nQ 43.703125 -1.421875 29.984375 -1.421875 \nQ 24.8125 -1.421875 18.96875 -0.25 \nQ 13.140625 0.921875 6.890625 3.21875 \nL 6.890625 13.375 \nQ 12.890625 10.015625 18.65625 8.296875 \nQ 24.421875 6.59375 29.984375 6.59375 \nQ 38.421875 6.59375 43.015625 9.90625 \nQ 47.609375 13.234375 47.609375 19.390625 \nQ 47.609375 24.75 44.3125 27.78125 \nQ 41.015625 30.8125 33.5 32.328125 \nL 27.484375 33.5 \nQ 16.453125 35.6875 11.515625 40.375 \nQ 6.59375 45.0625 6.59375 53.421875 \nQ 6.59375 63.09375 13.40625 68.65625 \nQ 20.21875 74.21875 32.171875 74.21875 \nQ 37.3125 74.21875 42.625 73.28125 \nQ 47.953125 72.359375 53.515625 70.515625 \nz\n\" id=\"DejaVuSans-83\"/>\n     <path d=\"M 9.8125 72.90625 \nL 19.671875 72.90625 \nL 19.671875 8.296875 \nL 55.171875 8.296875 \nL 55.171875 0 \nL 9.8125 0 \nz\n\" id=\"DejaVuSans-76\"/>\n     <path d=\"M 19.671875 64.796875 \nL 19.671875 37.40625 \nL 32.078125 37.40625 \nQ 38.96875 37.40625 42.71875 40.96875 \nQ 46.484375 44.53125 46.484375 51.125 \nQ 46.484375 57.671875 42.71875 61.234375 \nQ 38.96875 64.796875 32.078125 64.796875 \nz\nM 9.8125 72.90625 \nL 32.078125 72.90625 \nQ 44.34375 72.90625 50.609375 67.359375 \nQ 56.890625 61.8125 56.890625 51.125 \nQ 56.890625 40.328125 50.609375 34.8125 \nQ 44.34375 29.296875 32.078125 29.296875 \nL 19.671875 29.296875 \nL 19.671875 0 \nL 9.8125 0 \nz\n\" id=\"DejaVuSans-80\"/>\n     <path id=\"DejaVuSans-32\"/>\n     <path d=\"M 37.109375 75.984375 \nL 37.109375 68.5 \nL 28.515625 68.5 \nQ 23.6875 68.5 21.796875 66.546875 \nQ 19.921875 64.59375 19.921875 59.515625 \nL 19.921875 54.6875 \nL 34.71875 54.6875 \nL 34.71875 47.703125 \nL 19.921875 47.703125 \nL 19.921875 0 \nL 10.890625 0 \nL 10.890625 47.703125 \nL 2.296875 47.703125 \nL 2.296875 54.6875 \nL 10.890625 54.6875 \nL 10.890625 58.5 \nQ 10.890625 67.625 15.140625 71.796875 \nQ 19.390625 75.984375 28.609375 75.984375 \nz\n\" id=\"DejaVuSans-102\"/>\n     <path d=\"M 56.203125 29.59375 \nL 56.203125 25.203125 \nL 14.890625 25.203125 \nQ 15.484375 15.921875 20.484375 11.0625 \nQ 25.484375 6.203125 34.421875 6.203125 \nQ 39.59375 6.203125 44.453125 7.46875 \nQ 49.3125 8.734375 54.109375 11.28125 \nL 54.109375 2.78125 \nQ 49.265625 0.734375 44.1875 -0.34375 \nQ 39.109375 -1.421875 33.890625 -1.421875 \nQ 20.796875 -1.421875 13.15625 6.1875 \nQ 5.515625 13.8125 5.515625 26.8125 \nQ 5.515625 40.234375 12.765625 48.109375 \nQ 20.015625 56 32.328125 56 \nQ 43.359375 56 49.78125 48.890625 \nQ 56.203125 41.796875 56.203125 29.59375 \nz\nM 47.21875 32.234375 \nQ 47.125 39.59375 43.09375 43.984375 \nQ 39.0625 48.390625 32.421875 48.390625 \nQ 24.90625 48.390625 20.390625 44.140625 \nQ 15.875 39.890625 15.1875 32.171875 \nz\n\" id=\"DejaVuSans-101\"/>\n     <path d=\"M 10.59375 45.40625 \nL 73.1875 45.40625 \nL 73.1875 37.203125 \nL 10.59375 37.203125 \nz\nM 10.59375 25.484375 \nL 73.1875 25.484375 \nL 73.1875 17.1875 \nL 10.59375 17.1875 \nz\n\" id=\"DejaVuSans-61\"/>\n     <path d=\"M 54.890625 33.015625 \nL 54.890625 0 \nL 45.90625 0 \nL 45.90625 32.71875 \nQ 45.90625 40.484375 42.875 44.328125 \nQ 39.84375 48.1875 33.796875 48.1875 \nQ 26.515625 48.1875 22.3125 43.546875 \nQ 18.109375 38.921875 18.109375 30.90625 \nL 18.109375 0 \nL 9.078125 0 \nL 9.078125 54.6875 \nL 18.109375 54.6875 \nL 18.109375 46.1875 \nQ 21.34375 51.125 25.703125 53.5625 \nQ 30.078125 56 35.796875 56 \nQ 45.21875 56 50.046875 50.171875 \nQ 54.890625 44.34375 54.890625 33.015625 \nz\n\" id=\"DejaVuSans-110\"/>\n     <path d=\"M 45.40625 27.984375 \nQ 45.40625 37.75 41.375 43.109375 \nQ 37.359375 48.484375 30.078125 48.484375 \nQ 22.859375 48.484375 18.828125 43.109375 \nQ 14.796875 37.75 14.796875 27.984375 \nQ 14.796875 18.265625 18.828125 12.890625 \nQ 22.859375 7.515625 30.078125 7.515625 \nQ 37.359375 7.515625 41.375 12.890625 \nQ 45.40625 18.265625 45.40625 27.984375 \nz\nM 54.390625 6.78125 \nQ 54.390625 -7.171875 48.1875 -13.984375 \nQ 42 -20.796875 29.203125 -20.796875 \nQ 24.46875 -20.796875 20.265625 -20.09375 \nQ 16.0625 -19.390625 12.109375 -17.921875 \nL 12.109375 -9.1875 \nQ 16.0625 -11.328125 19.921875 -12.34375 \nQ 23.78125 -13.375 27.78125 -13.375 \nQ 36.625 -13.375 41.015625 -8.765625 \nQ 45.40625 -4.15625 45.40625 5.171875 \nL 45.40625 9.625 \nQ 42.625 4.78125 38.28125 2.390625 \nQ 33.9375 0 27.875 0 \nQ 17.828125 0 11.671875 7.65625 \nQ 5.515625 15.328125 5.515625 27.984375 \nQ 5.515625 40.671875 11.671875 48.328125 \nQ 17.828125 56 27.875 56 \nQ 33.9375 56 38.28125 53.609375 \nQ 42.625 51.21875 45.40625 46.390625 \nL 45.40625 54.6875 \nL 54.390625 54.6875 \nz\n\" id=\"DejaVuSans-103\"/>\n     <path d=\"M 31 75.875 \nQ 24.46875 64.65625 21.28125 53.65625 \nQ 18.109375 42.671875 18.109375 31.390625 \nQ 18.109375 20.125 21.3125 9.0625 \nQ 24.515625 -2 31 -13.1875 \nL 23.1875 -13.1875 \nQ 15.875 -1.703125 12.234375 9.375 \nQ 8.59375 20.453125 8.59375 31.390625 \nQ 8.59375 42.28125 12.203125 53.3125 \nQ 15.828125 64.359375 23.1875 75.875 \nz\n\" id=\"DejaVuSans-40\"/>\n     <path d=\"M 11.71875 12.40625 \nL 22.015625 12.40625 \nL 22.015625 4 \nL 14.015625 -11.625 \nL 7.71875 -11.625 \nL 11.71875 4 \nz\n\" id=\"DejaVuSans-44\"/>\n     <path d=\"M 8.015625 75.875 \nL 15.828125 75.875 \nQ 23.140625 64.359375 26.78125 53.3125 \nQ 30.421875 42.28125 30.421875 31.390625 \nQ 30.421875 20.453125 26.78125 9.375 \nQ 23.140625 -1.703125 15.828125 -13.1875 \nL 8.015625 -13.1875 \nQ 14.5 -2 17.703125 9.0625 \nQ 20.90625 20.125 20.90625 31.390625 \nQ 20.90625 42.671875 17.703125 53.65625 \nQ 14.5 64.65625 8.015625 75.875 \nz\n\" id=\"DejaVuSans-41\"/>\n    </defs>\n    <g transform=\"translate(98.24625 16.318125)scale(0.12 -0.12)\">\n     <use xlink:href=\"#DejaVuSans-83\"/>\n     <use x=\"63.476562\" xlink:href=\"#DejaVuSans-76\"/>\n     <use x=\"119.189453\" xlink:href=\"#DejaVuSans-80\"/>\n     <use x=\"179.492188\" xlink:href=\"#DejaVuSans-32\"/>\n     <use x=\"211.279297\" xlink:href=\"#DejaVuSans-65\"/>\n     <use x=\"279.671875\" xlink:href=\"#DejaVuSans-99\"/>\n     <use x=\"334.652344\" xlink:href=\"#DejaVuSans-99\"/>\n     <use x=\"389.632812\" xlink:href=\"#DejaVuSans-117\"/>\n     <use x=\"453.011719\" xlink:href=\"#DejaVuSans-114\"/>\n     <use x=\"494.125\" xlink:href=\"#DejaVuSans-97\"/>\n     <use x=\"555.404297\" xlink:href=\"#DejaVuSans-99\"/>\n     <use x=\"610.384766\" xlink:href=\"#DejaVuSans-121\"/>\n     <use x=\"669.564453\" xlink:href=\"#DejaVuSans-32\"/>\n     <use x=\"701.351562\" xlink:href=\"#DejaVuSans-102\"/>\n     <use x=\"736.556641\" xlink:href=\"#DejaVuSans-111\"/>\n     <use x=\"797.738281\" xlink:href=\"#DejaVuSans-114\"/>\n     <use x=\"838.851562\" xlink:href=\"#DejaVuSans-32\"/>\n     <use x=\"870.638672\" xlink:href=\"#DejaVuSans-101\"/>\n     <use x=\"932.162109\" xlink:href=\"#DejaVuSans-112\"/>\n     <use x=\"995.638672\" xlink:href=\"#DejaVuSans-111\"/>\n     <use x=\"1056.820312\" xlink:href=\"#DejaVuSans-99\"/>\n     <use x=\"1111.800781\" xlink:href=\"#DejaVuSans-104\"/>\n     <use x=\"1175.179688\" xlink:href=\"#DejaVuSans-61\"/>\n     <use x=\"1258.96875\" xlink:href=\"#DejaVuSans-114\"/>\n     <use x=\"1300.082031\" xlink:href=\"#DejaVuSans-97\"/>\n     <use x=\"1361.361328\" xlink:href=\"#DejaVuSans-110\"/>\n     <use x=\"1424.740234\" xlink:href=\"#DejaVuSans-103\"/>\n     <use x=\"1488.216797\" xlink:href=\"#DejaVuSans-101\"/>\n     <use x=\"1549.740234\" xlink:href=\"#DejaVuSans-40\"/>\n     <use x=\"1588.753906\" xlink:href=\"#DejaVuSans-49\"/>\n     <use x=\"1652.376953\" xlink:href=\"#DejaVuSans-44\"/>\n     <use x=\"1684.164062\" xlink:href=\"#DejaVuSans-32\"/>\n     <use x=\"1715.951172\" xlink:href=\"#DejaVuSans-53\"/>\n     <use x=\"1779.574219\" xlink:href=\"#DejaVuSans-49\"/>\n     <use x=\"1843.197266\" xlink:href=\"#DejaVuSans-41\"/>\n    </g>\n   </g>\n   <g id=\"legend_1\">\n    <g id=\"patch_7\">\n     <path d=\"M 271.621875 234.758125 \nL 371.58125 234.758125 \nQ 373.58125 234.758125 373.58125 232.758125 \nL 373.58125 204.401875 \nQ 373.58125 202.401875 371.58125 202.401875 \nL 271.621875 202.401875 \nQ 269.621875 202.401875 269.621875 204.401875 \nL 269.621875 232.758125 \nQ 269.621875 234.758125 271.621875 234.758125 \nz\n\" style=\"fill:#ffffff;opacity:0.8;stroke:#cccccc;stroke-linejoin:miter;\"/>\n    </g>\n    <g id=\"line2d_16\">\n     <path d=\"M 273.621875 210.500312 \nL 293.621875 210.500312 \n\" style=\"fill:none;stroke:#1f77b4;stroke-linecap:square;stroke-width:1.5;\"/>\n    </g>\n    <g id=\"line2d_17\">\n     <g>\n      <use style=\"fill:#1f77b4;stroke:#1f77b4;\" x=\"283.621875\" xlink:href=\"#m4805d3244c\" y=\"210.500312\"/>\n     </g>\n    </g>\n    <g id=\"text_17\">\n     <!-- Training Data -->\n     <defs>\n      <path d=\"M -0.296875 72.90625 \nL 61.375 72.90625 \nL 61.375 64.59375 \nL 35.5 64.59375 \nL 35.5 0 \nL 25.59375 0 \nL 25.59375 64.59375 \nL -0.296875 64.59375 \nz\n\" id=\"DejaVuSans-84\"/>\n      <path d=\"M 9.421875 54.6875 \nL 18.40625 54.6875 \nL 18.40625 0 \nL 9.421875 0 \nz\nM 9.421875 75.984375 \nL 18.40625 75.984375 \nL 18.40625 64.59375 \nL 9.421875 64.59375 \nz\n\" id=\"DejaVuSans-105\"/>\n      <path d=\"M 19.671875 64.796875 \nL 19.671875 8.109375 \nL 31.59375 8.109375 \nQ 46.6875 8.109375 53.6875 14.9375 \nQ 60.6875 21.78125 60.6875 36.53125 \nQ 60.6875 51.171875 53.6875 57.984375 \nQ 46.6875 64.796875 31.59375 64.796875 \nz\nM 9.8125 72.90625 \nL 30.078125 72.90625 \nQ 51.265625 72.90625 61.171875 64.09375 \nQ 71.09375 55.28125 71.09375 36.53125 \nQ 71.09375 17.671875 61.125 8.828125 \nQ 51.171875 0 30.078125 0 \nL 9.8125 0 \nz\n\" id=\"DejaVuSans-68\"/>\n      <path d=\"M 18.3125 70.21875 \nL 18.3125 54.6875 \nL 36.8125 54.6875 \nL 36.8125 47.703125 \nL 18.3125 47.703125 \nL 18.3125 18.015625 \nQ 18.3125 11.328125 20.140625 9.421875 \nQ 21.96875 7.515625 27.59375 7.515625 \nL 36.8125 7.515625 \nL 36.8125 0 \nL 27.59375 0 \nQ 17.1875 0 13.234375 3.875 \nQ 9.28125 7.765625 9.28125 18.015625 \nL 9.28125 47.703125 \nL 2.6875 47.703125 \nL 2.6875 54.6875 \nL 9.28125 54.6875 \nL 9.28125 70.21875 \nz\n\" id=\"DejaVuSans-116\"/>\n     </defs>\n     <g transform=\"translate(301.621875 214.000312)scale(0.1 -0.1)\">\n      <use xlink:href=\"#DejaVuSans-84\"/>\n      <use x=\"60.865234\" xlink:href=\"#DejaVuSans-114\"/>\n      <use x=\"101.978516\" xlink:href=\"#DejaVuSans-97\"/>\n      <use x=\"163.257812\" xlink:href=\"#DejaVuSans-105\"/>\n      <use x=\"191.041016\" xlink:href=\"#DejaVuSans-110\"/>\n      <use x=\"254.419922\" xlink:href=\"#DejaVuSans-105\"/>\n      <use x=\"282.203125\" xlink:href=\"#DejaVuSans-110\"/>\n      <use x=\"345.582031\" xlink:href=\"#DejaVuSans-103\"/>\n      <use x=\"409.058594\" xlink:href=\"#DejaVuSans-32\"/>\n      <use x=\"440.845703\" xlink:href=\"#DejaVuSans-68\"/>\n      <use x=\"517.847656\" xlink:href=\"#DejaVuSans-97\"/>\n      <use x=\"579.126953\" xlink:href=\"#DejaVuSans-116\"/>\n      <use x=\"618.335938\" xlink:href=\"#DejaVuSans-97\"/>\n     </g>\n    </g>\n    <g id=\"line2d_18\">\n     <path d=\"M 273.621875 225.178437 \nL 293.621875 225.178437 \n\" style=\"fill:none;stroke:#ff7f0e;stroke-linecap:square;stroke-width:1.5;\"/>\n    </g>\n    <g id=\"line2d_19\">\n     <g>\n      <use style=\"fill:#ff7f0e;stroke:#ff7f0e;\" x=\"283.621875\" xlink:href=\"#me5dde05754\" y=\"225.178437\"/>\n     </g>\n    </g>\n    <g id=\"text_18\">\n     <!-- Test Data -->\n     <defs>\n      <path d=\"M 44.28125 53.078125 \nL 44.28125 44.578125 \nQ 40.484375 46.53125 36.375 47.5 \nQ 32.28125 48.484375 27.875 48.484375 \nQ 21.1875 48.484375 17.84375 46.4375 \nQ 14.5 44.390625 14.5 40.28125 \nQ 14.5 37.15625 16.890625 35.375 \nQ 19.28125 33.59375 26.515625 31.984375 \nL 29.59375 31.296875 \nQ 39.15625 29.25 43.1875 25.515625 \nQ 47.21875 21.78125 47.21875 15.09375 \nQ 47.21875 7.46875 41.1875 3.015625 \nQ 35.15625 -1.421875 24.609375 -1.421875 \nQ 20.21875 -1.421875 15.453125 -0.5625 \nQ 10.6875 0.296875 5.421875 2 \nL 5.421875 11.28125 \nQ 10.40625 8.6875 15.234375 7.390625 \nQ 20.0625 6.109375 24.8125 6.109375 \nQ 31.15625 6.109375 34.5625 8.28125 \nQ 37.984375 10.453125 37.984375 14.40625 \nQ 37.984375 18.0625 35.515625 20.015625 \nQ 33.0625 21.96875 24.703125 23.78125 \nL 21.578125 24.515625 \nQ 13.234375 26.265625 9.515625 29.90625 \nQ 5.8125 33.546875 5.8125 39.890625 \nQ 5.8125 47.609375 11.28125 51.796875 \nQ 16.75 56 26.8125 56 \nQ 31.78125 56 36.171875 55.265625 \nQ 40.578125 54.546875 44.28125 53.078125 \nz\n\" id=\"DejaVuSans-115\"/>\n     </defs>\n     <g transform=\"translate(301.621875 228.678437)scale(0.1 -0.1)\">\n      <use xlink:href=\"#DejaVuSans-84\"/>\n      <use x=\"60.818359\" xlink:href=\"#DejaVuSans-101\"/>\n      <use x=\"122.341797\" xlink:href=\"#DejaVuSans-115\"/>\n      <use x=\"174.441406\" xlink:href=\"#DejaVuSans-116\"/>\n      <use x=\"213.650391\" xlink:href=\"#DejaVuSans-32\"/>\n      <use x=\"245.4375\" xlink:href=\"#DejaVuSans-68\"/>\n      <use x=\"322.439453\" xlink:href=\"#DejaVuSans-97\"/>\n      <use x=\"383.71875\" xlink:href=\"#DejaVuSans-116\"/>\n      <use x=\"422.927734\" xlink:href=\"#DejaVuSans-97\"/>\n     </g>\n    </g>\n   </g>\n  </g>\n </g>\n <defs>\n  <clipPath id=\"pc34024ea5d\">\n   <rect height=\"217.44\" width=\"334.8\" x=\"43.78125\" y=\"22.318125\"/>\n  </clipPath>\n </defs>\n</svg>\n",
      "image/png": "[encoded data removed]"
     },
     "metadata": {
      "needs_background": "light"
     }
    }
   ],
   "source": [
    "plot_accuracies(range(1,EPOCHS+1), train_acc, test_acc)"
   ]
  },
  {
   "cell_type": "code",
   "execution_count": 37,
   "metadata": {},
   "outputs": [],
   "source": [
    "def plot_mean_images(weights):\n",
    "    # weights is a 784x10 matrix\n",
    "    # Creating 4*3 subplots\n",
    "    fig, axes = plt.subplots(4, 3)\n",
    "    # Set the height of plat 8px*8px\n",
    "    fig.set_figheight(8)\n",
    "    fig.set_figwidth(8)\n",
    "    fig.suptitle('Mean Images')\n",
    "    # For each subplot run the code inside loop\n",
    "    for label in range(12):\n",
    "        # If the subplot index is a label (0,1,2...9)\n",
    "        if label<10:\n",
    "            axes[label//3][label%3].imshow(weights[:,label].reshape(28,28), cmap='gray')\n",
    "        # Do not show the axes of subplots\n",
    "        axes[label//3][label%3].axis('off') \n",
    "    # Showing the plot\n",
    "    plt.show()"
   ]
  },
  {
   "cell_type": "code",
   "execution_count": 35,
   "metadata": {},
   "outputs": [
    {
     "output_type": "error",
     "ename": "AttributeError",
     "evalue": "'Perceptron' object has no attribute 'fc1'",
     "traceback": [
      "\u001b[0;31m---------------------------------------------------------------------------\u001b[0m",
      "\u001b[0;31mAttributeError\u001b[0m                            Traceback (most recent call last)",
      "\u001b[0;32m<ipython-input-35-8bd61e792af2>\u001b[0m in \u001b[0;36m<module>\u001b[0;34m\u001b[0m\n\u001b[0;32m----> 1\u001b[0;31m \u001b[0mplot_mean_images\u001b[0m\u001b[0;34m(\u001b[0m\u001b[0mnet\u001b[0m\u001b[0;34m.\u001b[0m\u001b[0mfc1\u001b[0m\u001b[0;34m.\u001b[0m\u001b[0mweight\u001b[0m\u001b[0;34m.\u001b[0m\u001b[0mT\u001b[0m\u001b[0;34m.\u001b[0m\u001b[0mdetach\u001b[0m\u001b[0;34m(\u001b[0m\u001b[0;34m)\u001b[0m\u001b[0;34m.\u001b[0m\u001b[0mnumpy\u001b[0m\u001b[0;34m(\u001b[0m\u001b[0;34m)\u001b[0m\u001b[0;34m)\u001b[0m\u001b[0;34m\u001b[0m\u001b[0;34m\u001b[0m\u001b[0m\n\u001b[0m",
      "\u001b[0;32m~/anaconda3/envs/p37/lib/python3.7/site-packages/torch/nn/modules/module.py\u001b[0m in \u001b[0;36m__getattr__\u001b[0;34m(self, name)\u001b[0m\n\u001b[1;32m    583\u001b[0m                 \u001b[0;32mreturn\u001b[0m \u001b[0mmodules\u001b[0m\u001b[0;34m[\u001b[0m\u001b[0mname\u001b[0m\u001b[0;34m]\u001b[0m\u001b[0;34m\u001b[0m\u001b[0;34m\u001b[0m\u001b[0m\n\u001b[1;32m    584\u001b[0m         raise AttributeError(\"'{}' object has no attribute '{}'\".format(\n\u001b[0;32m--> 585\u001b[0;31m             type(self).__name__, name))\n\u001b[0m\u001b[1;32m    586\u001b[0m \u001b[0;34m\u001b[0m\u001b[0m\n\u001b[1;32m    587\u001b[0m     \u001b[0;32mdef\u001b[0m \u001b[0m__setattr__\u001b[0m\u001b[0;34m(\u001b[0m\u001b[0mself\u001b[0m\u001b[0;34m,\u001b[0m \u001b[0mname\u001b[0m\u001b[0;34m,\u001b[0m \u001b[0mvalue\u001b[0m\u001b[0;34m)\u001b[0m\u001b[0;34m:\u001b[0m\u001b[0;34m\u001b[0m\u001b[0;34m\u001b[0m\u001b[0m\n",
      "\u001b[0;31mAttributeError\u001b[0m: 'Perceptron' object has no attribute 'fc1'"
     ]
    }
   ],
   "source": [
    "plot_mean_images(net.model.weight.T.detach().numpy())"
   ]
  },
  {
   "cell_type": "code",
   "execution_count": null,
   "metadata": {},
   "outputs": [],
   "source": []
  }
 ]
}